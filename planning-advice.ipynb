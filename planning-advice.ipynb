{
 "cells": [
  {
   "cell_type": "code",
   "execution_count": null,
   "metadata": {
    "tags": [
     "parameters"
    ]
   },
   "outputs": [],
   "source": [
    "voevent_json=open('data/test/voevent-spiacs.json').read() #http://www.w3.org/2001/XMLSchema#str"
   ]
  },
  {
   "cell_type": "code",
   "execution_count": null,
   "metadata": {},
   "outputs": [],
   "source": [
    "import oda\n",
    "\n",
    "parsed_data = oda.evaluate(\"odahub\",\"eventparser\",\"ParseVOEvent\",\n",
    "                    voevent_json=voevent_json,\n",
    "                  )\n",
    "\n",
    "print(\"parsed data:\", parsed_data)"
   ]
  },
  {
   "cell_type": "code",
   "execution_count": null,
   "metadata": {},
   "outputs": [],
   "source": [
    "lvc_data = oda.evaluate(\"odahub\",\"eventparser\",\"ParseVOELVC\",\n",
    "                    voevent_json=voevent_json,\n",
    "                    _async_return=True,\n",
    "                  )\n",
    "\n",
    "try:\n",
    "    gwFAR = lvc_data['lvc_notice_data']['What']['Param']['FAR']\n",
    "except:\n",
    "    gwFAR = None\n",
    "    \n",
    "if lvc_data == \"incomplete\" or lvc_data is None:\n",
    "    lvc_data = {}\n",
    "\n",
    "print(\"lvc_data\",lvc_data)"
   ]
  },
  {
   "cell_type": "code",
   "execution_count": null,
   "metadata": {},
   "outputs": [],
   "source": [
    "#gw_FAR = lvc_data['lvc_notice_data']['What']['Param']\n",
    "\n",
    "try:\n",
    "    useful_data = lvc_data['lvc_notice_data']['What']['Group']['unnamed']\n",
    "except:\n",
    "    useful_data = dict(HasNS=0)\n",
    "\n",
    "print(\"useful data:\",useful_data)"
   ]
  },
  {
   "cell_type": "code",
   "execution_count": null,
   "metadata": {},
   "outputs": [],
   "source": [
    "\n",
    "try:\n",
    "    c=oda.evaluate(\"odahub\", \"integral-visibility\", \"integral-visibility\",\n",
    "            tstart_utc=parsed_data['utc_isot'],\n",
    "            target_loc=\"healpix\",\n",
    "            target_healpix_url=parsed_data['lvc_data']['localization_url'],\n",
    "            _async_return=True,\n",
    "        )\n",
    "except:\n",
    "    c=oda.evaluate(\"odahub\", \"integral-visibility\", \"integral-visibility\",\n",
    "            tstart_utc=parsed_data['utc_isot'],\n",
    "            target_loc=\"point\",\n",
    "            target_ra=parsed_data['ra_deg'],\n",
    "            target_dec=parsed_data['dec_deg'],\n",
    "            _async_return=True,\n",
    "        )\n",
    "    \n",
    "print(\"visibility returns\",c)\n",
    "\n",
    "visibility_data = dict([(k,v) for k,v in c.items() if 'content' not in k])\n",
    "\n",
    "visibility_data\n",
    "\n"
   ]
  },
  {
   "cell_type": "code",
   "execution_count": null,
   "metadata": {},
   "outputs": [],
   "source": [
    "try:\n",
    "    import integralclient as ic \n",
    "\n",
    "    sc=ic.get_sc(utc=parsed_data['utc_isot'],ra=parsed_data['ra_deg'],dec=parsed_data['dec_deg'])\n",
    "except:\n",
    "    sc={}\n",
    "    \n",
    "sc"
   ]
  },
  {
   "cell_type": "code",
   "execution_count": null,
   "metadata": {},
   "outputs": [],
   "source": [
    "from astropy.time import Time, TimezoneInfo\n",
    "from astropy import units as u\n",
    "t=Time(parsed_data['utc_isot'],format='isot')\n",
    "td=t.to_datetime(timezone=TimezoneInfo(utc_offset=2*u.hour))\n"
   ]
  },
  {
   "cell_type": "code",
   "execution_count": null,
   "metadata": {},
   "outputs": [],
   "source": [
    "import numpy as np\n",
    "\n",
    "\n",
    "advices = []\n",
    "\n",
    "importance_levels=[\n",
    "        'very high',\n",
    "        'high',\n",
    "        'medium',\n",
    "        'low',\n",
    "    ]\n",
    "advice2level = lambda advice:importance_levels.index(advice['importance'])\n",
    "\n",
    "\n",
    "if useful_data.get('HasNS', 0) == 1:\n",
    "    advices.append(dict(importance='very high', reason = 'NS')) \n",
    "\n",
    "if visibility_data['visibility_summary']['esac']['visible'] > 40:\n",
    "    advices.append(dict(importance='medium', reason = 'visible')) \n",
    "    \n",
    "if lvc_data.get('loc_area_90_deg2',0)<300:\n",
    "    advices.append(dict(importance='high', reason = 'small region')) \n",
    "\n",
    "if sc.get('theta',180)<15:\n",
    "    advices.append(dict(importance='high', reason = 'in FoV (%.3lg deg)'%sc.get('theta',180))) \n",
    "\n",
    "if sc.get('theta',180)<40:\n",
    "    advices.append(dict(importance='high', reason = 'close to FoV (%.3lg deg)'%sc.get('theta',180))) \n",
    "\n",
    "distance = visibility_data.get('extract',{}).get('DISTMEAN',None)\n",
    "if distance is not None and distance < 500:\n",
    "    advices.append(dict(importance='very high', reason = 'nearby: %.5lg Mpc'% visibility_data['extract']['DISTMEAN']))\n",
    "\n",
    "signalness = -np.log10(gwFAR) if gwFAR is not None else None\n",
    "if signalness is not None and signalness > 50:    \n",
    "    advices.append(dict(importance='very high', reason = 'very rare: FAR %.5lg'% gwFAR))\n",
    "    \n",
    "if td.hour>8 and td.hour<17:\n",
    "    advices.append(dict(importance='high', reason = 'working hours')) \n",
    "    \n",
    "\n",
    "if (td.hour>8 and td.hour<17) and \\\n",
    "   (distance is not None and distance < 500) and \\\n",
    "   (sc.get('theta',180)<40) and \\\n",
    "   (visibility_data['visibility_summary']['esac']['visible'] > 40):\n",
    "    advices.append(dict(importance='follow-up advised', reason = 'time, distance, separation, visibility aligned'))\n",
    "    \n",
    "advices"
   ]
  },
  {
   "cell_type": "code",
   "execution_count": null,
   "metadata": {},
   "outputs": [],
   "source": [
    "# other avail obs\n",
    "# consider other instrumnent detections\n",
    "# consider reach in distance: RPOS or FTOO, cmplex slew\n",
    "# complex cases\n",
    "# disconnected regions\n",
    "# check duty cycle, when data ready if\n",
    "# property of current obs"
   ]
  },
  {
   "cell_type": "code",
   "execution_count": null,
   "metadata": {},
   "outputs": [],
   "source": [
    "followup_grade_i = min(map(advice2level, advices))\n",
    "followup_grade = importance_levels[followup_grade_i]\n",
    "\n",
    "comments = \"; \".join([advice['reason']+\" (\"+advice['importance']+\")\" for advice in sorted(advices, key=advice2level)])\n",
    "comments"
   ]
  },
  {
   "cell_type": "code",
   "execution_count": null,
   "metadata": {},
   "outputs": [],
   "source": [
    "if followup_grade_i == 0:\n",
    "    recommended_action=dict(\n",
    "            route = \"SMS\",\n",
    "            destination = [\"shift\", \"core\"],\n",
    "            comment = comments\n",
    "    )\n",
    "else:\n",
    "    recommended_action=dict(\n",
    "            route = \"email\",\n",
    "            destination = [\"shift\", \"core\"],\n",
    "            comment = comments\n",
    "    )"
   ]
  },
  {
   "cell_type": "code",
   "execution_count": null,
   "metadata": {
    "tags": [
     "outputs"
    ]
   },
   "outputs": [],
   "source": [
    "followup_grade=followup_grade\n",
    "advices=advices\n",
    "hasNS=useful_data['HasNS']\n",
    "recommended_action=recommended_action\n",
    "distance=distance\n",
    "visibility_data=visibility_data"
   ]
  }
 ],
 "metadata": {
  "celltoolbar": "Tags",
  "kernelspec": {
   "display_name": "Python 3",
   "language": "python",
   "name": "python3"
  },
  "language_info": {
   "codemirror_mode": {
    "name": "ipython",
    "version": 3
   },
   "file_extension": ".py",
   "mimetype": "text/x-python",
   "name": "python",
   "nbconvert_exporter": "python",
   "pygments_lexer": "ipython3",
   "version": "3.6.7"
  }
 },
 "nbformat": 4,
 "nbformat_minor": 2
}
