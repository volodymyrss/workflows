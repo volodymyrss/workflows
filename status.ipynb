{
 "cells": [
  {
   "cell_type": "code",
   "execution_count": 1,
   "metadata": {},
   "outputs": [
    {
     "name": "stdout",
     "output_type": "stream",
     "text": [
      "failed to get AUTH with env due to: 'K8S_SECRET_INTEGRAL_CLIENT_SECRET'\n",
      "got AUTH with homefile for integral-limited\n"
     ]
    }
   ],
   "source": [
    "from matplotlib import pylab\n",
    "from astropy.coordinates import SkyCoord\n",
    "import integralclient as ic\n",
    "\n",
    "import time\n",
    "import numpy as np\n",
    "\n",
    "from astropy.table import Table, vstack\n",
    "from astropy.io import fits\n",
    "import glob\n",
    "import re\n",
    "import datetime"
   ]
  },
  {
   "cell_type": "code",
   "execution_count": 2,
   "metadata": {
    "tags": [
     "parameters"
    ]
   },
   "outputs": [],
   "source": [
    "cons=1\n",
    "nrt=1\n",
    "when_utc=\"now\""
   ]
  },
  {
   "cell_type": "code",
   "execution_count": 3,
   "metadata": {
    "tags": [
     "system-parameters"
    ]
   },
   "outputs": [],
   "source": [
    "schedule_interval=100\n",
    "cache_timeout=900"
   ]
  },
  {
   "cell_type": "code",
   "execution_count": 4,
   "metadata": {},
   "outputs": [
    {
     "name": "stderr",
     "output_type": "stream",
     "text": [
      "2023-05-19 17:24:10 savchenk-NG-VN7-793G-79EG root[1768483] INFO url https://www.astro.unige.ch/cdci/astrooda/dispatch-data/gw//timesystem/api/v1.0/converttime/UTC/2023-05-19T15:24:10/IJD\n"
     ]
    }
   ],
   "source": [
    "if when_utc == \"now\":\n",
    "    get_when_utc=lambda :datetime.datetime.utcnow().strftime(\"%Y-%m-%dT%H:%M:%S\")\n",
    "    when_utc=get_when_utc()\n",
    "\n",
    "    get_when_ijd = lambda : float(ic.converttime(\"UTC\",get_when_utc(),\"IJD\"))\n",
    "    when_ijd = get_when_ijd()\n",
    "else:\n",
    "    get_when_utc=lambda :when_utc\n",
    "    when_utc=get_when_utc()\n",
    "\n",
    "    get_when_ijd = lambda : float(ic.converttime(\"UTC\",get_when_utc(),\"IJD\"))\n",
    "    when_ijd = get_when_ijd()\n"
   ]
  },
  {
   "cell_type": "code",
   "execution_count": 6,
   "metadata": {},
   "outputs": [
    {
     "name": "stdout",
     "output_type": "stream",
     "text": [
      "picking this arc root prefix: None\n",
      "found prefix /mnt/sshfs/isdc/\n",
      "nrt: /mnt/sshfs/isdc//isdc/pvphase/nrt/ops/idx/scw/GNRL-SCWG-GRP-IDX_*\n",
      "nrt: /mnt/sshfs/isdc//isdc/pvphase/nrt/ops/idx/scw/GNRL-SCWG-GRP-IDX_20230517083026.fits\n"
     ]
    }
   ],
   "source": [
    "import os\n",
    "\n",
    "arc_root_prefix = None\n",
    "arc_root_prefixes = [\"/mnt/sshfs/isdc/\",\"/\"]\n",
    "\n",
    "for _ in arc_root_prefixes:\n",
    "    if os.path.exists(_ + \"/isdc/arc/rev_3/idx/scw/GNRL-SCWG-GRP-IDX.fits\"):\n",
    "        print(\"picking this arc root prefix:\",arc_root_prefix)\n",
    "        arc_root_prefix = _\n",
    "        break\n",
    "    \n",
    "if arc_root_prefix is None:\n",
    "    raise Exception(\"no archive found!\")\n",
    "\n",
    "print(\"found prefix\", arc_root_prefix)\n",
    "\n",
    "scwd_cons = Table.read(fits.open(arc_root_prefix+\"/isdc/arc/rev_3/idx/scw/GNRL-SCWG-GRP-IDX.fits\"))\n",
    "\n",
    "print(\"nrt:\",arc_root_prefix+\"/isdc/pvphase/nrt/ops/idx/scw/GNRL-SCWG-GRP-IDX_*\")\n",
    "print(\"nrt:\",glob.glob(arc_root_prefix+\"/isdc/pvphase/nrt/ops/idx/scw/GNRL-SCWG-GRP-IDX_*\")[-1])\n",
    "\n",
    "scwd_nrt = Table.read(fits.open(sorted(glob.glob(arc_root_prefix+\"/isdc/pvphase/nrt/ops/idx/scw/GNRL-SCWG-GRP-IDX_*\"))[-1])[1])\n",
    "    \n"
   ]
  },
  {
   "cell_type": "code",
   "execution_count": 7,
   "metadata": {},
   "outputs": [
    {
     "name": "stdout",
     "output_type": "stream",
     "text": [
      "NRT ONLINE\n"
     ]
    },
    {
     "data": {
      "text/plain": [
       "{'barytime': -0.2106233846655137,\n",
       " 'bodies': {'earth': {'body_dec': -50.99,\n",
       "   'body_distance': 0,\n",
       "   'body_in_sc': [118.96209798114637, 59.053402267188865],\n",
       "   'body_ra': 32.00999999999999,\n",
       "   'body_size': 3.0834782973724897,\n",
       "   'integral_parallax': 57.29577951308232,\n",
       "   'separation': 118383.0},\n",
       "  'moon': {'body_dec': -50.99,\n",
       "   'body_distance': 369739.05375714647,\n",
       "   'body_in_sc': [65.84593367792964, -85.35250307468736],\n",
       "   'body_ra': 32.00999999999999,\n",
       "   'body_size': 0.30425042981265915,\n",
       "   'integral_parallax': 20.73579656448591,\n",
       "   'separation': 327108.0638259236},\n",
       "  'sun': {'body_dec': -50.99,\n",
       "   'body_distance': 150595527.0178759,\n",
       "   'body_in_sc': [60.99703390208115, -95.28415059435409],\n",
       "   'body_ra': 32.00999999999999,\n",
       "   'body_size': 0.26478902989889896,\n",
       "   'integral_parallax': 0.04505752440207181,\n",
       "   'separation': 150537481.94353393}},\n",
       " 'd_scx': 118.96209798114637,\n",
       " 'd_scy': 41.37584253479982,\n",
       " 'd_scz': 63.26091947062074,\n",
       " 'dyz_scy': 30.946597732811135,\n",
       " 'dyz_scz': 59.05340226718932,\n",
       " 'ephs': {'alt': 118383.0, 'dec': 50.99, 'ra': 212.01},\n",
       " 'phi': 59.053402267188865,\n",
       " 'scx': {'dec': -49.841, 'ra': 138.664},\n",
       " 'scy': {'dec': -37.8146646308287, 'ra': 341.77997109538757},\n",
       " 'scz': {'dec': 11.538, 'ra': 62.664},\n",
       " 'theta': 118.96209798114637}"
      ]
     },
     "execution_count": 7,
     "metadata": {},
     "output_type": "execute_result"
    }
   ],
   "source": [
    "\n",
    "most_recent_age_cons=when_ijd-np.max(scwd_cons['TSTOP'])\n",
    "most_recent_age_nrt=when_ijd-np.max(scwd_nrt['TSTOP'])\n",
    "\n",
    "most_recent_age_cons,most_recent_age_nrt*24\n",
    "\n",
    "\n",
    "most_recent_age_nrt_hours=most_recent_age_nrt*24\n",
    "if most_recent_age_nrt_hours<2:\n",
    "    nrtstatus=\"ONLINE\"\n",
    "elif most_recent_age_nrt_hours<10:\n",
    "    nrtstatus=\"Delayed\"\n",
    "else:    \n",
    "    nrtstatus=\"OFFLINE\"\n",
    "print(\"NRT\",nrtstatus)\n",
    "\n",
    "most_recent_scw_cons = scwd_cons[np.argmax(scwd_cons['TSTOP'])]\n",
    "most_recent_scw_nrt = scwd_nrt[np.argmax(scwd_nrt['TSTOP'])]\n",
    "most_recent_scw_nrt\n",
    "most_recent_scw_cons\n",
    "\n",
    "sc_nrt=ic.get_sc(str(most_recent_scw_nrt['TSTOP']))\n",
    "\n",
    "sc_rt=ic.get_sc(str(when_ijd))\n",
    "sc_rt\n",
    "\n"
   ]
  },
  {
   "cell_type": "code",
   "execution_count": 8,
   "metadata": {},
   "outputs": [
    {
     "name": "stderr",
     "output_type": "stream",
     "text": [
      "2023-05-19 17:25:56 savchenk-NG-VN7-793G-79EG root[1768483] INFO url https://www.astro.unige.ch/cdci/astrooda/dispatch-data/gw//timesystem/api/v1.0/converttime/UTC/2023-05-19T15:24:10/REVNUM\n"
     ]
    },
    {
     "data": {
      "text/plain": [
       "2641.0"
      ]
     },
     "execution_count": 8,
     "metadata": {},
     "output_type": "execute_result"
    }
   ],
   "source": [
    "current_rev=float(ic.converttime(\"UTC\",when_utc,\"REVNUM\"))\n",
    "current_rev"
   ]
  },
  {
   "cell_type": "code",
   "execution_count": 11,
   "metadata": {},
   "outputs": [
    {
     "name": "stdout",
     "output_type": "stream",
     "text": [
      "probing /mnt/sshfs/isdc/projects/integral/data/realtime/spiacs/ with ['/mnt/sshfs/isdc/projects/integral/data/realtime/spiacs/lcdump-revol-2620-pid-16031.csv', '/mnt/sshfs/isdc/projects/integral/data/realtime/spiacs/lcdump-revol-2622-pid-16031.csv', '/mnt/sshfs/isdc/projects/integral/data/realtime/spiacs/lcdump-revol-2639-pid-00044.csv', '/mnt/sshfs/isdc/projects/integral/data/realtime/spiacs/lcdump-revol-2618-pid-16031.csv', '/mnt/sshfs/isdc/projects/integral/data/realtime/spiacs/lcdump-revol-2640-pid-19641.csv', '/mnt/sshfs/isdc/projects/integral/data/realtime/spiacs/lcdump-revol-2640-pid-17629.csv', '/mnt/sshfs/isdc/projects/integral/data/realtime/spiacs/lcdump-revol-2621-pid-16031.csv', '/mnt/sshfs/isdc/projects/integral/data/realtime/spiacs/lcdump-revol-2640-pid-19678.csv', '/mnt/sshfs/isdc/projects/integral/data/realtime/spiacs/lcdump-revol-2641-pid-00044.csv', '/mnt/sshfs/isdc/projects/integral/data/realtime/spiacs/lcdump-revol-2638-pid-00044.csv', '/mnt/sshfs/isdc/projects/integral/data/realtime/spiacs/lcdump-revol-2640-pid-09054.csv', '/mnt/sshfs/isdc/projects/integral/data/realtime/spiacs/lcdump-revol-2617-pid-16031.csv', '/mnt/sshfs/isdc/projects/integral/data/realtime/spiacs/lcdump-revol-2640-pid-00044.csv', '/mnt/sshfs/isdc/projects/integral/data/realtime/spiacs/lcdump-revol-2619-pid-16031.csv', '/mnt/sshfs/isdc/projects/integral/data/realtime/spiacs/lcdump-revol-2636-pid-00044.csv', '/mnt/sshfs/isdc/projects/integral/data/realtime/spiacs/lcdump-revol-2617-pid-00044.csv', '/mnt/sshfs/isdc/projects/integral/data/realtime/spiacs/lcdump-revol-2640-pid-09019.csv']\n",
      "this /mnt/sshfs/isdc/projects/integral/data/realtime/spiacs/\n",
      "/mnt/sshfs/isdc/projects/integral/data/realtime/spiacs/lcdump-revol-2641-pid-00044.csv\n",
      "first 118471416.06742858887 2023-05-17T15:30:01.1379 0 8537.6466472442134545 48.456 52.206 33997.9910992249 -0.10277\n",
      "first non-zero 118479402.21742248535 2023-05-17T17:43:07.2904 5 8537.7390795648152562 59.591 71.28 57738.3673391539 -0.18196\n",
      "last 118644088.01742553711 2023-05-19T15:27:53.1879 4260 8539.6451663414354698 212.03 50.912 118129.68366631 -0.3834\n",
      "last non-zero 118644088.01742553711 2023-05-19T15:27:53.1879 4260 8539.6451663414354698 212.03 50.912 118129.68366631 -0.3834\n"
     ]
    }
   ],
   "source": [
    "rtdata_roots=[\n",
    "    '/mnt/sshfs/isdc/projects/integral/data/realtime/spiacs/',\n",
    "    '/rtdata',\n",
    "]\n",
    "\n",
    "for realtime_dump_root in rtdata_roots + [ None ]:\n",
    "    print(\"probing\",realtime_dump_root,\"with\",glob.glob(realtime_dump_root+\"/lcdump-revol-*.csv\"))\n",
    "    if realtime_dump_root and len(glob.glob(realtime_dump_root+\"/lcdump-revol-*.csv\"))>0:\n",
    "        print(\"this\",realtime_dump_root)\n",
    "        break\n",
    "    \n",
    "if not realtime_dump_root:\n",
    "    raise Exception(\"no realtime archvie found\")\n",
    "\n",
    "try:\n",
    "    last_fn=sorted([l for l in glob.glob(realtime_dump_root+\"/lcdump-revol-*.csv\") if \n",
    "                   float(re.search(\"lcdump-revol-(\\d{4}).*.csv\",l).groups()[0])<current_rev+1])[-1]\n",
    "    print(last_fn)\n",
    "\n",
    "    with open(last_fn, 'r') as f:\n",
    "        lines = f.read().splitlines()\n",
    "        first_line = lines[0]\n",
    "        \n",
    "        first_nonzero_line = None\n",
    "        for probed_line in lines:\n",
    "            if probed_line.split()[2]!=\"0\":\n",
    "                first_nonzero_line = probed_line\n",
    "                break\n",
    "\n",
    "            \n",
    "        last_line = lines[-1]\n",
    "        \n",
    "        last_nonzero_line = None\n",
    "        for probed_line in lines[::-1]:\n",
    "            if probed_line.split()[2]!=\"0\":\n",
    "                last_nonzero_line = probed_line\n",
    "                break\n",
    "\n",
    "        print(\"first\",first_line)\n",
    "        print(\"first non-zero\",first_nonzero_line)\n",
    "        print(\"last\",last_line)\n",
    "        print(\"last non-zero\",last_nonzero_line)\n",
    "\n",
    "        rt_ready=True\n",
    "        rtfirst_ijd=float(first_line.split()[3])\n",
    "        rtfirst_nonzero_ijd=float(first_nonzero_line.split()[3])\n",
    "        \n",
    "        \n",
    "        rtlast_utc=last_line.split()[1]\n",
    "        rtlast_ijd=float(last_line.split()[3])\n",
    "        \n",
    "        rtlast_nonzero_utc=last_nonzero_line.split()[1]\n",
    "        rtlast_nonzero_ijd=float(last_nonzero_line.split()[3])\n",
    "        \n",
    "        rtlast_acsrate_50ms=float(last_line.split()[2])\n",
    "        rtlast_ra=float(last_line.split()[4])\n",
    "        rtlast_dec=float(last_line.split()[5])\n",
    "        rtlast_earth_separation_kkm=float(last_line.split()[6])\n",
    "        rtlast_earth_lightraveltime=float(last_line.split()[7]) \n",
    "except Exception as e:\n",
    "    print(repr(e))\n",
    "    rt_ready=False"
   ]
  },
  {
   "cell_type": "code",
   "execution_count": 15,
   "metadata": {},
   "outputs": [
    {
     "name": "stderr",
     "output_type": "stream",
     "text": [
      "2023-05-19 17:28:49 savchenk-NG-VN7-793G-79EG root[1768483] INFO url https://www.astro.unige.ch/cdci/astrooda/dispatch-data/gw//timesystem/api/v1.0/converttime/UTC/2023-05-19T15:28:49/IJD\n",
      "2023-05-19 17:28:50 savchenk-NG-VN7-793G-79EG root[1768483] INFO url https://www.astro.unige.ch/cdci/astrooda/dispatch-data/gw//timesystem/api/v1.0/converttime/UTC/2023-05-19T15:28:50/IJD\n"
     ]
    },
    {
     "name": "stdout",
     "output_type": "stream",
     "text": [
      "rt last age 55.81209998927079 non-zero 56.81209990871139\n"
     ]
    }
   ],
   "source": [
    "if rt_ready:\n",
    "    rtlast_age=get_when_ijd()-rtlast_ijd    \n",
    "    rtlast_nonzero_age=get_when_ijd()-rtlast_nonzero_ijd    \n",
    "    \n",
    "    print(\"rt last age\", rtlast_age*24*3600, \"non-zero\", rtlast_nonzero_age*24*3600)"
   ]
  },
  {
   "cell_type": "code",
   "execution_count": 17,
   "metadata": {},
   "outputs": [],
   "source": [
    "if rt_ready:\n",
    "    rtlast_age_seconds=rtlast_age*24*3600\n",
    "    if rtlast_age_seconds<120:\n",
    "        rtstatus=\"ONLINE\"\n",
    "    elif rtlast_age_seconds<3600:\n",
    "        rtstatus=\"Delayed\"\n",
    "    else:    \n",
    "        rtstatus=\"OFFLINE\"\n",
    "    rtstatus\n",
    "else:\n",
    "    rtstatus=\"UNAVAILABLE\"\n",
    "    rtlast_utc=\"unknown\"\n",
    "    rtlast_ijd=float('NaN')\n",
    "    rtlast_nonzero_utc=\"unknown\"\n",
    "    rtlast_nonzero_ijd=float('NaN')\n",
    "    rtlast_ra=float('NaN')\n",
    "    rtlast_dec=float('NaN')\n",
    "    rtlast_earth_separation_kkm=float('NaN')\n",
    "    rtlast_earth_lightraveltime=float('NaN')\n",
    "    rtlast_age_seconds=float('NaN')\n",
    "    rtfirst_ijd=float('NaN')"
   ]
  },
  {
   "cell_type": "code",
   "execution_count": 19,
   "metadata": {},
   "outputs": [
    {
     "name": "stderr",
     "output_type": "stream",
     "text": [
      "2023-05-19 17:29:17 savchenk-NG-VN7-793G-79EG root[1768483] INFO url https://www.astro.unige.ch/cdci/astrooda/dispatch-data/gw//timesystem/api/v1.0/converttime/UTC/2023-05-19T15:24:10/REVNUM\n"
     ]
    },
    {
     "name": "stdout",
     "output_type": "stream",
     "text": [
      "arcroot prefix: /mnt/sshfs/isdc/\n",
      "patt /mnt/sshfs/isdc//isdc/pvphase/nrt/ops/aux/org/2640/TSF_*.INT\n",
      "all tsfs ['/mnt/sshfs/isdc//isdc/pvphase/nrt/ops/aux/org/2640/TSF_2640_SSSSSSSSSSSSS_0001.INT']\n",
      "read                       time          name     value  \\\n",
      "0     2023-05-14T23:22:21Z  AOS_CHK_OPEN       NaN   \n",
      "1     2023-05-14T23:22:21Z          MOUT       NaN   \n",
      "2     2023-05-14T23:22:21Z          MOUT       NaN   \n",
      "3     2023-05-14T23:23:19Z          MOUT       NaN   \n",
      "4     2023-05-14T23:42:21Z            ED  GEBENT02   \n",
      "...                    ...           ...       ...   \n",
      "2589  2023-05-17T12:25:53Z          MOUT       NaN   \n",
      "2590  2023-05-17T13:05:21Z          MOUT       NaN   \n",
      "2591  2023-05-17T13:05:55Z  E_ECLIP_STOP       NaN   \n",
      "2592  2023-05-17T13:05:55Z          MOUT       NaN   \n",
      "2593  2023-05-17T13:34:02Z      PSF_STOP       NaN   \n",
      "\n",
      "                                                comment  \n",
      "0           /* 01 Start of post-AOS status check window  \n",
      "1     \"TM start KIRUNA                              ...  \n",
      "2     \"AOS_CHK OPEN                                 ...  \n",
      "3                              \"Initial Antenna is   2\"  \n",
      "4     /* IBIS in Safe Configuration at Belts Entry (...  \n",
      "...                                                 ...  \n",
      "2589  \"Eclipse umbra start                          ...  \n",
      "2590  \"Eclipse umbra stop                           ...  \n",
      "2591  /* ECLIPSE by EARTH ends (penumbra+margin, mar...  \n",
      "2592  \"Eclipse stop                                 ...  \n",
      "2593                                      /* End of PSF  \n",
      "\n",
      "[2594 rows x 4 columns]\n",
      "arcroot prefix: /mnt/sshfs/isdc/\n",
      "patt /mnt/sshfs/isdc//isdc/pvphase/nrt/ops/aux/org/2641/TSF_*.INT\n",
      "all tsfs ['/mnt/sshfs/isdc//isdc/pvphase/nrt/ops/aux/org/2641/TSF_2641_SSSSSSSSSSSSS_0001.INT']\n",
      "read                       time          name     value  \\\n",
      "0     2023-05-17T14:39:43Z          MOUT       NaN   \n",
      "1     2023-05-17T14:39:43Z          MOUT       NaN   \n",
      "2     2023-05-17T14:39:57Z          MOUT       NaN   \n",
      "3     2023-05-17T14:59:43Z            ED  GEBENT02   \n",
      "4     2023-05-17T15:04:43Z            ED  JEDMP100   \n",
      "...                    ...           ...       ...   \n",
      "2743  2023-05-20T04:20:37Z          MOUT       NaN   \n",
      "2744  2023-05-20T04:55:38Z          MOUT       NaN   \n",
      "2745  2023-05-20T04:56:15Z  E_ECLIP_STOP       NaN   \n",
      "2746  2023-05-20T04:56:15Z          MOUT       NaN   \n",
      "2747  2023-05-20T05:24:30Z      PSF_STOP       NaN   \n",
      "\n",
      "                                                comment  \n",
      "0     \"TM start KIRUNA                              ...  \n",
      "1     \"AOS_CHK OPEN                                 ...  \n",
      "2                              \"Initial Antenna is   2\"  \n",
      "3     /* IBIS in Safe Configuration at Belts Entry (...  \n",
      "4     /* Report On-board SVM buffers(FCP_SYS_1100/FC...  \n",
      "...                                                 ...  \n",
      "2743  \"Eclipse umbra start                          ...  \n",
      "2744  \"Eclipse umbra stop                           ...  \n",
      "2745  /* ECLIPSE by EARTH ends (penumbra+margin, mar...  \n",
      "2746  \"Eclipse stop                                 ...  \n",
      "2747                                      /* End of PSF  \n",
      "\n",
      "[2748 rows x 4 columns]\n",
      "arcroot prefix: /mnt/sshfs/isdc/\n",
      "patt /mnt/sshfs/isdc//isdc/pvphase/nrt/ops/aux/org/2642/TSF_*.INT\n",
      "all tsfs ['/mnt/sshfs/isdc//isdc/pvphase/nrt/ops/aux/org/2642/TSF_2642_SSSSSSSSSSSSS_0001.INT']\n",
      "read                       time          name     value  \\\n",
      "0     2023-05-20T06:25:44Z          MOUT       NaN   \n",
      "1     2023-05-20T06:25:44Z          MOUT       NaN   \n",
      "2     2023-05-20T06:26:08Z          MOUT       NaN   \n",
      "3     2023-05-20T06:45:44Z            ED  GEBENT02   \n",
      "4     2023-05-20T06:50:44Z            ED  JEDMP100   \n",
      "...                    ...           ...       ...   \n",
      "2692  2023-05-22T20:15:49Z          MOUT       NaN   \n",
      "2693  2023-05-22T20:45:44Z          MOUT       NaN   \n",
      "2694  2023-05-22T20:46:24Z          MOUT       NaN   \n",
      "2695  2023-05-22T20:46:25Z  E_ECLIP_STOP       NaN   \n",
      "2696  2023-05-22T21:14:41Z      PSF_STOP       NaN   \n",
      "\n",
      "                                                comment  \n",
      "0     \"TM start KIRUNA                              ...  \n",
      "1     \"AOS_CHK OPEN                                 ...  \n",
      "2                              \"Initial Antenna is   2\"  \n",
      "3     /* IBIS in Safe Configuration at Belts Entry (...  \n",
      "4     /* Report On-board SVM buffers(FCP_SYS_1100/FC...  \n",
      "...                                                 ...  \n",
      "2692  \"Eclipse umbra start                          ...  \n",
      "2693  \"Eclipse umbra stop                           ...  \n",
      "2694  \"Eclipse stop                                 ...  \n",
      "2695  /* ECLIPSE by EARTH ends (penumbra+margin, mar...  \n",
      "2696                                      /* End of PSF  \n",
      "\n",
      "[2697 rows x 4 columns]\n",
      "prophecy next break in data in 9 hr: 2023-05-20T00:23:28, for 9.3 hr\n"
     ]
    }
   ],
   "source": [
    "\n",
    "try:\n",
    "    import prophet\n",
    "    prophet.arc_root_prefix=arc_root_prefix\n",
    "\n",
    "    \n",
    "    prophecy, prophecy_summary = prophet.predict(time=when_utc)\n",
    "    \n",
    "    print(\"prophecy\",prophecy)\n",
    "except Exception as e:\n",
    "    print(repr(e))\n",
    "    prophecy = \"the future is unclear\"\n",
    "    prophecy_summary = {}"
   ]
  },
  {
   "cell_type": "code",
   "execution_count": 20,
   "metadata": {},
   "outputs": [
    {
     "data": {
      "text/plain": [
       "{'prevrev': {'num': 2640,\n",
       "  'start': '2023-05-15T02:12:21',\n",
       "  'stop': '2023-05-17T07:25:48'},\n",
       " 'thisrev': {'num': 2641,\n",
       "  'start': '2023-05-17T17:49:17',\n",
       "  'stop': '2023-05-20T00:23:28'},\n",
       " 'nextrev': {'num': 2642,\n",
       "  'start': '2023-05-20T09:39:55',\n",
       "  'stop': '2023-05-22T16:13:43'},\n",
       " 'last_data_utc': None,\n",
       " 'next_data_utc': None,\n",
       " 'expected_data_status': 'ONLINE'}"
      ]
     },
     "execution_count": 20,
     "metadata": {},
     "output_type": "execute_result"
    }
   ],
   "source": [
    "prophecy_summary"
   ]
  },
  {
   "cell_type": "code",
   "execution_count": 21,
   "metadata": {},
   "outputs": [
    {
     "name": "stderr",
     "output_type": "stream",
     "text": [
      "/tmp/ipykernel_1768483/1870517147.py:86: DeprecationWarning: Importing display from IPython.core.display is deprecated since IPython 7.14, please import from IPython display\n",
      "  from IPython.core.display import display, HTML\n"
     ]
    },
    {
     "data": {
      "text/html": [
       "\n",
       "<html>\n",
       "<head>\n",
       "</head>\n",
       "<body>\n",
       "\n",
       "<table style=\"border-collapse: separate;border-spacing: 2px;\">\n",
       "\n",
       "<tr>\n",
       "<td colspan=5 align=\"center\">\n",
       "<span style=\"color:blue; font-size:130%; font-weight:bold\">\n",
       "INTEGRAL status\n",
       "</span>\n",
       "</td>\n",
       "</tr>\n",
       "\n",
       "<tr>\n",
       "<td colspan=5 style=\"font-size:80%\">Snapshot at 2023-05-19T15:24:10 UTC</td>\n",
       "</tr>\n",
       "\n",
       "<tr>\n",
       "<td colspan=5>Orbit 2641, 118.13 Mm to Earth</td>\n",
       "</tr>\n",
       "\n",
       "\n",
       "<tr style=\"background-color:#ADD8E6\">\n",
       "<td align=\"center\"></td>\n",
       "<td align=\"center\">State/last</td>\n",
       "<td align=\"center\">Latency</td>\n",
       "<td align=\"center\">RA</td>\n",
       "<td align=\"center\">Dec</td>\n",
       "</tr>\n",
       "\n",
       "\n",
       "<tr>\n",
       "<td style=\"text-align:center\" >Real-time</td>\n",
       "<td style=\"text-align:center; color:green\">ONLINE</td>\n",
       "<td style=\"text-align:center\">55.8 s</td>\n",
       "<td style=\"text-align:center\" >138.7</td>\n",
       "<td style=\"text-align:center\" >-49.8</td>\n",
       "</tr>\n",
       "\n",
       "<tr>\n",
       "<td style=\"text-align:center\">NRT</td>\n",
       "<td style=\"text-align:center\">264100490021</td>\n",
       "<td style=\"text-align:center; color:text\">1.5 h</td>\n",
       "<td style=\"text-align:center\">138.7</td>\n",
       "<td style=\"text-align:center\">-49.8</td>\n",
       "</tr>\n",
       "<tr>\n",
       "<td style=\"text-align:center\">CONS</td>\n",
       "<td style=\"text-align:center\">263500760010</td>\n",
       "<td style=\"text-align:center\">15.5 d</td>\n",
       "<td style=\"text-align:center\">323.0</td>\n",
       "<td style=\"text-align:center\">-37.0</td>\n",
       "</tr>\n",
       "\n",
       "<tr style=\"background-color:#ADD8E6\">\n",
       "<td colspan=5 height=\"5px\"></td>\n",
       "</tr>\n",
       "\n",
       "<tr>\n",
       "<td style=\"text-align:left\" colspan=1>\n",
       "<a href=\"https://oda-workflows-integral-observation-summary.odahub.io/api/v1.0/get-html/status/history_html\">\n",
       "INTEGRAL status\n",
       "</a>\n",
       "</td>\n",
       "<td colspan=4>\n",
       "<a align=\"right\" style=\"text-align:right\" href=\"fetchme?url=http%3A%2F%2Fintegral.esac.esa.int%2Fisocweb%2Fschedule.html%3Faction%3Dschedule\">\n",
       "Schedule\n",
       "</a>\n",
       "</tr>\n",
       "\n",
       "<tr>\n",
       "<td style=\"text-align:left\" colspan=5>\n",
       "next break in data in 9 hr: 2023-05-20T00:23:28, for 9.3 hr\n",
       "</td>\n",
       "</tr>\n",
       "\n",
       "</table>\n",
       "\n",
       "</body>\n",
       "</html>"
      ],
      "text/plain": [
       "<IPython.core.display.HTML object>"
      ]
     },
     "metadata": {},
     "output_type": "display_data"
    }
   ],
   "source": [
    "template=\"\"\"\n",
    "<html>\n",
    "<head>\n",
    "</head>\n",
    "<body>\n",
    "\n",
    "<table style=\"border-collapse: separate;border-spacing: 2px;\">\n",
    "\n",
    "<tr>\n",
    "<td colspan=5 align=\"center\">\n",
    "<span style=\"color:blue; font-size:130%; font-weight:bold\">\n",
    "INTEGRAL status\n",
    "</span>\n",
    "</td>\n",
    "</tr>\n",
    "\n",
    "<tr>\n",
    "<td colspan=5 style=\"font-size:80%\">Snapshot at {{ when_utc }} UTC</td>\n",
    "</tr>\n",
    "\n",
    "<tr>\n",
    "<td colspan=5>Orbit {{ curent_rev | int }}, {{ (0.001*rtlast_earth_separation_kkm) | round(2) }} Mm to Earth</td>\n",
    "</tr>\n",
    "\n",
    "\n",
    "<tr style=\"background-color:#ADD8E6\">\n",
    "<td align=\"center\"></td>\n",
    "<td align=\"center\">State/last</td>\n",
    "<td align=\"center\">Latency</td>\n",
    "<td align=\"center\">RA</td>\n",
    "<td align=\"center\">Dec</td>\n",
    "</tr>\n",
    "\n",
    "\n",
    "<tr>\n",
    "<td style=\"text-align:center\" >Real-time</td>\n",
    "<td style=\"text-align:center; color:{{ \"green\" if rtstatus == \"ONLINE\" else \"grey\" if rtstatus == \"Delayed\"  else \"red\"  }}\">{{ rtstatus }}</td>\n",
    "<td style=\"text-align:center\">{{ rtlast_age_seconds | round(1) }} s</td>\n",
    "<td style=\"text-align:center\" >{{ rtlast_ra | round(1) }}</td>\n",
    "<td style=\"text-align:center\" >{{ rtlast_dec | round(1)}}</td>\n",
    "</tr>\n",
    "\n",
    "<tr>\n",
    "<td style=\"text-align:center\">NRT</td>\n",
    "<td style=\"text-align:center\">{{ last_nrt_scw_id }}</td>\n",
    "<td style=\"text-align:center; color:{{ \"text\" if nrtstatus == \"ONLINE\" else \"#FFA500\" if nrtstatus == \"Delayed\"  else \"red\"  }}\">{{ (most_recent_age_nrt*24) | round(1) }} h</td>\n",
    "<td style=\"text-align:center\">{{ last_nrt_scw_ra | round(1) }}</td>\n",
    "<td style=\"text-align:center\">{{ last_nrt_scw_dec | round(1) }}</td>\n",
    "</tr>\n",
    "<tr>\n",
    "<td style=\"text-align:center\">CONS</td>\n",
    "<td style=\"text-align:center\">{{ last_cons_scw_id }}</td>\n",
    "<td style=\"text-align:center\">{{ most_recent_age_cons | round(1) }} d</td>\n",
    "<td style=\"text-align:center\">{{ last_cons_scw_ra| round(1) }}</td>\n",
    "<td style=\"text-align:center\">{{ last_cons_scw_dec | round(1) }}</td>\n",
    "</tr>\n",
    "\n",
    "<tr style=\"background-color:#ADD8E6\">\n",
    "<td colspan=5 height=\"5px\"></td>\n",
    "</tr>\n",
    "\n",
    "<tr>\n",
    "<td style=\"text-align:left\" colspan=1>\n",
    "<a href=\"https://oda-workflows-integral-observation-summary.odahub.io/api/v1.0/get-html/status/history_html\">\n",
    "INTEGRAL status\n",
    "</a>\n",
    "</td>\n",
    "<td colspan=4>\n",
    "<a align=\"right\" style=\"text-align:right\" href=\"fetchme?url=http%3A%2F%2Fintegral.esac.esa.int%2Fisocweb%2Fschedule.html%3Faction%3Dschedule\">\n",
    "Schedule\n",
    "</a>\n",
    "</tr>\n",
    "\n",
    "<tr>\n",
    "<td style=\"text-align:left\" colspan=5>\n",
    "{{ prophecy }}\n",
    "</td>\n",
    "</tr>\n",
    "\n",
    "</table>\n",
    "\n",
    "</body>\n",
    "</html>\n",
    "\"\"\"\n",
    "\n",
    "from IPython.core.display import display, HTML\n",
    "from jinja2 import Environment, BaseLoader\n",
    "\n",
    "rtemplate = Environment(loader=BaseLoader).from_string(template)\n",
    "\n",
    "data=dict(\n",
    "    when_utc=when_utc,\n",
    "    last_cons_scw_id=most_recent_scw_cons['SWID'],\n",
    "    last_cons_scw_type=most_recent_scw_cons['SW_TYPE'],\n",
    "    last_cons_scw_ra=most_recent_scw_cons['RA_SCX'],\n",
    "    last_cons_scw_dec=most_recent_scw_cons['DEC_SCX'],\n",
    "    last_nrt_scw_id=most_recent_scw_nrt['SWID'],\n",
    "    last_nrt_scw_type=most_recent_scw_nrt['SW_TYPE'],\n",
    "    last_nrt_scw_ra=most_recent_scw_nrt['RA_SCX'], \n",
    "    last_nrt_scw_dec=most_recent_scw_nrt['DEC_SCX'],\n",
    "    earth_separation_kkm=sc_rt['bodies']['earth']['separation'],\n",
    "    earth_size_deg=sc_rt['bodies']['earth']['body_size'],\n",
    "    rtlast_utc=rtlast_utc,\n",
    "    rtlast_ijd=rtlast_ijd,\n",
    "    rtlast_nonzero_utc=rtlast_nonzero_utc,\n",
    "    rtlast_nonzero_ijd=rtlast_nonzero_ijd,\n",
    "    rtlast_ra=sc_rt['scx']['ra'],\n",
    "    rtlast_dec=sc_rt['scx']['dec'],\n",
    "    rtlast_earth_separation_kkm=rtlast_earth_separation_kkm,\n",
    "    rtlast_earth_lightraveltime=rtlast_earth_lightraveltime,\n",
    "    rtlast_age_seconds=rtlast_age_seconds,\n",
    "    rtfirst_ijd=rtfirst_ijd,\n",
    "    most_recent_age_nrt=most_recent_age_nrt,\n",
    "    most_recent_age_cons=most_recent_age_cons,\n",
    "    curent_rev=current_rev,\n",
    "    rtstatus=rtstatus,\n",
    "    nrtstatus=nrtstatus,\n",
    "    now=datetime.datetime.now(),\n",
    "    prophecy=prophecy,\n",
    "    prophecy_summary=prophecy_summary,\n",
    ")\n",
    "data_html = rtemplate.render(**data)\n",
    "\n",
    "open(\"status_card.html\",\"w\").write(data_html)\n",
    "\n",
    "display(HTML(data_html))"
   ]
  },
  {
   "cell_type": "code",
   "execution_count": 22,
   "metadata": {},
   "outputs": [
    {
     "data": {
      "text/plain": [
       "{'prevrev': {'num': 2640,\n",
       "  'start': '2023-05-15T02:12:21',\n",
       "  'stop': '2023-05-17T07:25:48'},\n",
       " 'thisrev': {'num': 2641,\n",
       "  'start': '2023-05-17T17:49:17',\n",
       "  'stop': '2023-05-20T00:23:28'},\n",
       " 'nextrev': {'num': 2642,\n",
       "  'start': '2023-05-20T09:39:55',\n",
       "  'stop': '2023-05-22T16:13:43'},\n",
       " 'last_data_utc': None,\n",
       " 'next_data_utc': None,\n",
       " 'expected_data_status': 'ONLINE'}"
      ]
     },
     "execution_count": 22,
     "metadata": {},
     "output_type": "execute_result"
    }
   ],
   "source": [
    "prophecy_summary"
   ]
  },
  {
   "cell_type": "code",
   "execution_count": 23,
   "metadata": {
    "tags": [
     "outputs"
    ]
   },
   "outputs": [],
   "source": [
    "history_html=\"status_card.html\" # smth\n",
    "data=data"
   ]
  }
 ],
 "metadata": {
  "celltoolbar": "Tags",
  "kernelspec": {
   "display_name": "base",
   "language": "python",
   "name": "python3"
  },
  "language_info": {
   "codemirror_mode": {
    "name": "ipython",
    "version": 3
   },
   "file_extension": ".py",
   "mimetype": "text/x-python",
   "name": "python",
   "nbconvert_exporter": "python",
   "pygments_lexer": "ipython3",
   "version": "3.9.16"
  },
  "vscode": {
   "interpreter": {
    "hash": "1892832a55cb9b21d693a1e0afb7563f6ad424a1b7b3da21728b3ea0874fe733"
   }
  }
 },
 "nbformat": 4,
 "nbformat_minor": 2
}
