{
 "cells": [
  {
   "cell_type": "code",
   "execution_count": 1,
   "metadata": {
    "tags": [
     "parameters"
    ]
   },
   "outputs": [],
   "source": [
    "t0_utc=\"2023-05-25T12:00:00\""
   ]
  },
  {
   "cell_type": "code",
   "execution_count": 6,
   "metadata": {},
   "outputs": [
    {
     "name": "stdout",
     "output_type": "stream",
     "text": [
      "url: https://www.astro.unige.ch/mmoda/dispatch-data/gw/integralhk/api/v1.0/rtlc/2023-05-25T12:00:00/1?json&prophecy\n"
     ]
    }
   ],
   "source": [
    "import requests\n",
    "import numpy as np\n",
    "\n",
    "url = f\"https://www.astro.unige.ch/mmoda/dispatch-data/gw/integralhk/api/v1.0/rtlc/{t0_utc}/1?json&prophecy\"\n",
    "print(\"url:\", url)\n",
    "r_json = requests.get(url).json()\n"
   ]
  },
  {
   "cell_type": "code",
   "execution_count": 10,
   "metadata": {},
   "outputs": [
    {
     "data": {
      "text/plain": [
       "['break since 5 hr next data in 5.3 hr',\n",
       " {'expected_data_status': 'OFFLINE',\n",
       "  'last_data_utc': '2023-05-25T06:57:03',\n",
       "  'next_data_utc': '2023-05-25T17:20:32',\n",
       "  'nextrev': {'num': 2644,\n",
       "   'start': '2023-05-25T17:20:32',\n",
       "   'stop': '2023-05-27T23:55:21'},\n",
       "  'prevrev': {'num': 2642,\n",
       "   'start': '2023-05-20T09:39:55',\n",
       "   'stop': '2023-05-22T16:13:43'},\n",
       "  'thisrev': {'num': 2643,\n",
       "   'start': '2023-05-23T01:45:39',\n",
       "   'stop': '2023-05-25T06:57:03'}}]"
      ]
     },
     "execution_count": 10,
     "metadata": {},
     "output_type": "execute_result"
    }
   ],
   "source": [
    "prophecy = r_json['prophecy']\n",
    "\n",
    "prophecy"
   ]
  },
  {
   "cell_type": "code",
   "execution_count": null,
   "metadata": {
    "tags": [
     "outputs"
    ]
   },
   "outputs": [],
   "source": [
    "prophecy = prophecy"
   ]
  }
 ],
 "metadata": {
  "kernelspec": {
   "display_name": "Python 3.10.6 64-bit",
   "language": "python",
   "name": "python3"
  },
  "language_info": {
   "codemirror_mode": {
    "name": "ipython",
    "version": 3
   },
   "file_extension": ".py",
   "mimetype": "text/x-python",
   "name": "python",
   "nbconvert_exporter": "python",
   "pygments_lexer": "ipython3",
   "version": "3.10.6"
  },
  "orig_nbformat": 4,
  "vscode": {
   "interpreter": {
    "hash": "916dbcbb3f70747c44a77c7bcd40155683ae19c65e1c03b4aa3499c5328201f1"
   }
  }
 },
 "nbformat": 4,
 "nbformat_minor": 2
}
