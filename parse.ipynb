{
 "cells": [
  {
   "cell_type": "code",
   "execution_count": 9,
   "metadata": {
    "tags": [
     "parameters"
    ]
   },
   "outputs": [],
   "source": [
    "# oda:version \"v1.4\"\n",
    "alert_url=\"https://gracedb.ligo.org/apiweb/superevents/S240621dy/files/S240621dy-3-Initial.xml,0\""
   ]
  },
  {
   "cell_type": "code",
   "execution_count": 12,
   "metadata": {},
   "outputs": [],
   "source": [
    "import json\n",
    "import xmltodict\n",
    "\n",
    "if alert_url.startswith(\"http\"):\n",
    "    import requests\n",
    "    alert_content = requests.get(alert_url).text\n",
    "else:\n",
    "    alert_content = open(alert_url).read()\n",
    "\n",
    "\n",
    "try:\n",
    "    alert = xmltodict.parse(alert_content)\n",
    "except Exception as e:\n",
    "    alert = json.loads(alert_content)    "
   ]
  },
  {
   "cell_type": "code",
   "execution_count": null,
   "metadata": {},
   "outputs": [],
   "source": [
    "role = alert['voe:VOEvent']['@role']"
   ]
  },
  {
   "cell_type": "code",
   "execution_count": null,
   "metadata": {},
   "outputs": [],
   "source": [
    "\n",
    "list2dict = lambda l: {d['@name']: d for d in l}\n",
    "\n",
    "skymap_url = list2dict(alert['voe:VOEvent']['What']['Group'])['GW_SKYMAP']['Param']['@value']\n",
    "GraceID = list2dict(alert['voe:VOEvent']['What']['Param'])['GraceID']['@value']\n",
    "\n",
    "# from astropy.io import fits\n",
    "# fits.open(skymap)[1].header\n",
    "\n",
    "GraceID"
   ]
  },
  {
   "cell_type": "code",
   "execution_count": 51,
   "metadata": {},
   "outputs": [],
   "source": [
    "params = list2dict(alert['voe:VOEvent']['What']['Param'])\n",
    "far, significant = float(params['FAR']['@value']), float(params['Significant']['@value'])\n",
    "hasns = float(list2dict(list2dict(alert['voe:VOEvent']['What']['Group'])['Properties']['Param'])['HasNS']['@value'])"
   ]
  },
  {
   "cell_type": "code",
   "execution_count": 54,
   "metadata": {},
   "outputs": [
    {
     "data": {
      "text/plain": [
       "(1.0, 4.003769e-20, 0.0)"
      ]
     },
     "execution_count": 54,
     "metadata": {},
     "output_type": "execute_result"
    }
   ],
   "source": [
    "significant, far, hasns"
   ]
  },
  {
   "cell_type": "code",
   "execution_count": 58,
   "metadata": {},
   "outputs": [
    {
     "data": {
      "text/plain": [
       "0"
      ]
     },
     "execution_count": 58,
     "metadata": {},
     "output_type": "execute_result"
    }
   ],
   "source": [
    "if far < 1e-5 and significant > 0 and hasns > 0.5:\n",
    "    useful_alert = 1\n",
    "else:\n",
    "    useful_alert = 0\n",
    "\n",
    "useful_alert"
   ]
  },
  {
   "cell_type": "code",
   "execution_count": null,
   "metadata": {},
   "outputs": [],
   "source": [
    "event_id = list2dict(alert['voe:VOEvent']['What']['Param'])['GraceID']['@value']"
   ]
  },
  {
   "cell_type": "code",
   "execution_count": null,
   "metadata": {},
   "outputs": [
    {
     "data": {
      "text/plain": [
       "<Time object: scale='utc' format='isot' value=2023-05-24T19:57:59.000>"
      ]
     },
     "execution_count": 20,
     "metadata": {},
     "output_type": "execute_result"
    }
   ],
   "source": [
    "from astropy.time import Time\n",
    "\n",
    "t0 = Time(alert['voe:VOEvent']['WhereWhen']['ObsDataLocation']['ObservationLocation']['AstroCoords']['Time']['TimeInstant']['ISOTime'])\n",
    "t0"
   ]
  },
  {
   "cell_type": "code",
   "execution_count": null,
   "metadata": {
    "tags": [
     "outputs"
    ]
   },
   "outputs": [],
   "source": [
    "t0_utc = t0.isot\n",
    "skymap_url = skymap_url\n",
    "event_id = event_id\n",
    "role = role\n",
    "name = GraceID\n",
    "event_kind = 'GW'\n",
    "useful_alert = useful_alert"
   ]
  }
 ],
 "metadata": {
  "kernelspec": {
   "display_name": "Python 3.10.6 64-bit",
   "language": "python",
   "name": "python3"
  },
  "nbdime-conflicts": {
   "local_diff": [
    {
     "key": "language_info",
     "op": "add",
     "value": {
      "codemirror_mode": {
       "name": "ipython",
       "version": 3
      },
      "file_extension": ".py",
      "mimetype": "text/x-python",
      "name": "python",
      "nbconvert_exporter": "python",
      "pygments_lexer": "ipython3",
      "version": "3.8.10"
     }
    }
   ],
   "remote_diff": [
    {
     "key": "language_info",
     "op": "add",
     "value": {
      "codemirror_mode": {
       "name": "ipython",
       "version": 3
      },
      "file_extension": ".py",
      "mimetype": "text/x-python",
      "name": "python",
      "nbconvert_exporter": "python",
      "pygments_lexer": "ipython3",
      "version": "3.11.9"
     }
    }
   ]
  },
  "vscode": {
   "interpreter": {
    "hash": "916dbcbb3f70747c44a77c7bcd40155683ae19c65e1c03b4aa3499c5328201f1"
   }
  }
 },
 "nbformat": 4,
 "nbformat_minor": 2
}
