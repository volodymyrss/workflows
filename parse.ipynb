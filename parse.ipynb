{
 "cells": [
  {
   "cell_type": "code",
   "execution_count": 3,
   "metadata": {
    "tags": [
     "parameters"
    ]
   },
   "outputs": [],
   "source": [
    "# oda:version \"v1.2\"\n",
    "alert_url=\"../messages/inbox/20230731_235820_ivo___gwnet_LVC_S230731an_2_Preliminary.json\""
   ]
  },
  {
   "cell_type": "code",
   "execution_count": 4,
   "metadata": {},
   "outputs": [],
   "source": [
    "import json\n",
    "import xmltodict\n",
    "\n",
    "try:\n",
    "    with open(alert_url) as f:\n",
    "        alert = xmltodict.parse(f.read())\n",
    "except Exception as e:\n",
    "    with open(alert_url) as f:\n",
    "        alert = json.load(f)    "
   ]
  },
  {
   "cell_type": "code",
   "execution_count": 5,
   "metadata": {},
   "outputs": [],
   "source": [
    "role = alert['voe:VOEvent']['@role']"
   ]
  },
  {
   "cell_type": "code",
   "execution_count": 6,
   "metadata": {},
   "outputs": [
    {
     "data": {
      "text/plain": [
       "'S230731an'"
      ]
     },
     "execution_count": 6,
     "metadata": {},
     "output_type": "execute_result"
    }
   ],
   "source": [
    "\n",
    "list2dict = lambda l: {d['@name']: d for d in l}\n",
    "\n",
    "skymap_url = list2dict(alert['voe:VOEvent']['What']['Group'])['GW_SKYMAP']['Param']['@value']\n",
    "GraceID = list2dict(alert['voe:VOEvent']['What']['Param'])['GraceID']['@value']\n",
    "\n",
    "# from astropy.io import fits\n",
    "# fits.open(skymap)[1].header\n",
    "\n",
    "GraceID"
   ]
  },
  {
   "cell_type": "code",
   "execution_count": null,
   "metadata": {},
   "outputs": [],
   "source": [
    "event_id = list2dict(alert['voe:VOEvent']['What']['Param'])['GraceID']['@value']"
   ]
  },
  {
   "cell_type": "code",
   "execution_count": null,
   "metadata": {},
   "outputs": [
    {
     "data": {
      "text/plain": [
       "<Time object: scale='utc' format='isot' value=2023-05-24T19:57:59.000>"
      ]
     },
     "execution_count": 20,
     "metadata": {},
     "output_type": "execute_result"
    }
   ],
   "source": [
    "from astropy.time import Time\n",
    "\n",
    "t0 = Time(alert['voe:VOEvent']['WhereWhen']['ObsDataLocation']['ObservationLocation']['AstroCoords']['Time']['TimeInstant']['ISOTime'])\n",
    "t0"
   ]
  },
  {
   "cell_type": "code",
   "execution_count": null,
   "metadata": {
    "tags": [
     "outputs"
    ]
   },
   "outputs": [],
   "source": [
    "t0_utc = t0.isot\n",
    "skymap_url = skymap_url\n",
    "event_id = event_id\n",
    "role = role\n",
    "name = GraceID\n",
    "event_kind = 'GW'",
    "alert = alert"
   ]
  }
 ],
 "metadata": {
  "kernelspec": {
   "display_name": "Python 3.10.6 64-bit",
   "language": "python",
   "name": "python3"
  },
  "language_info": {
   "codemirror_mode": {
    "name": "ipython",
    "version": 3
   },
   "file_extension": ".py",
   "mimetype": "text/x-python",
   "name": "python",
   "nbconvert_exporter": "python",
   "pygments_lexer": "ipython3",
   "version": "3.8.10"
  },
  "orig_nbformat": 4,
  "vscode": {
   "interpreter": {
    "hash": "916dbcbb3f70747c44a77c7bcd40155683ae19c65e1c03b4aa3499c5328201f1"
   }
  }
 },
 "nbformat": 4,
 "nbformat_minor": 2
}
