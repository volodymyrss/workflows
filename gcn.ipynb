{
 "cells": [
  {
   "cell_type": "code",
   "execution_count": 1,
   "metadata": {
    "tags": [
     "parameters"
    ]
   },
   "outputs": [],
   "source": [
    "# Parameters\n",
    "datasource = \"rt\"\n",
    "gcn_number = 33813\n",
    "name = \"S230518h\"\n",
    "t0_utc=\"2023-05-18T12:59:08.000000\"\n",
    "ra = 316.05 \n",
    "dec = 15.79 \n",
    "radius = 1.0\n",
    "event_kind = \"LVK\"\n",
    "healpix_url = \"skymap.fits\"\n",
    "force_online_expected = 0"
   ]
  },
  {
   "cell_type": "code",
   "execution_count": 2,
   "metadata": {},
   "outputs": [
    {
     "data": {
      "text/plain": [
       "'S230518h'"
      ]
     },
     "execution_count": 2,
     "metadata": {},
     "output_type": "execute_result"
    }
   ],
   "source": [
    "import hashlib\n",
    "\n",
    "key = hashlib.md5((\"%.15lg %.15lg %.5lg %s\"%(ra,dec,radius,healpix_url)).encode()).hexdigest()\n",
    "\n",
    "name=name.replace(\"AUTO\",\n",
    "                t0_utc[2:4]+t0_utc[5:7]+t0_utc[8:10]+\".\"+\n",
    "                (t0_utc[11:13] + t0_utc[14:16]) + t0_utc[17:].replace(\".\",\"\")+\"-\"+key[:4])\n",
    "\n",
    "name"
   ]
  },
  {
   "cell_type": "code",
   "execution_count": 3,
   "metadata": {},
   "outputs": [
    {
     "name": "stderr",
     "output_type": "stream",
     "text": [
      "<frozen importlib._bootstrap>:228: RuntimeWarning: scipy._lib.messagestream.MessageStream size changed, may indicate binary incompatibility. Expected 56 from C header, got 64 from PyObject\n"
     ]
    },
    {
     "name": "stdout",
     "output_type": "stream",
     "text": [
      "failed to get AUTH with env due to: 'K8S_SECRET_INTEGRAL_CLIENT_SECRET'\n",
      "got AUTH with homefile for integral-limited\n"
     ]
    },
    {
     "name": "stderr",
     "output_type": "stream",
     "text": [
      "2023-05-18 18:05:02 savchenk-NG-VN7-793G-79EG dqueue.database[695064] INFO successfully connected to db: <playhouse.pool.PooledMySQLDatabase object at 0x7f1f2bfab790>\n"
     ]
    }
   ],
   "source": [
    "import sys\n",
    "import os\n",
    "\n",
    "sys.path.append(os.environ['HOME']+\"/work/integral-visibility\")\n",
    "import integralvisibility\n",
    "\n",
    "import healpy\n",
    "# sys.path.append(os.environ['HOME']+\"/work/integral/followup/integral-counterpart\")\n",
    "\n",
    "import astropy.io.fits as pyfits\n",
    "import astropy\n",
    "\n",
    "import integralclient as ic\n",
    "\n",
    "import dataanalysis as da\n",
    "da.printhook.global_permissive_output=False\n",
    "\n",
    "from astropy.coordinates import SkyCoord\n",
    "from astropy import units as u\n",
    "\n",
    "import json\n",
    "\n",
    "import pandas as pd\n",
    "draft_dir=os.environ['PWD']\n",
    "analysis_dir=draft_dir\n",
    "\n",
    "import os\n",
    "os.environ['INTEGRAL_DDCACHE_ROOT']=\"/data/ddcache/\"\n",
    "\n",
    "import counterpart\n",
    "\n",
    "\n",
    "import dataanalysis.core as da\n",
    "import dataanalysis.context as ddcontext"
   ]
  },
  {
   "cell_type": "code",
   "execution_count": 4,
   "metadata": {},
   "outputs": [
    {
     "name": "stdout",
     "output_type": "stream",
     "text": [
      "loc_parameters {'ra': 316.05, 'dec': 15.79, 'dra_p90': (-1.0, 1.0), 'ddec_p90': (-1.0, 1.0)}\n"
     ]
    }
   ],
   "source": [
    "loc_parameters=dict(\n",
    "            ra=ra,\n",
    "            dec=dec,            \n",
    "            dra_p90=(-radius,radius),\n",
    "            ddec_p90=(-radius,radius),\n",
    "        )\n",
    "\n",
    "print(\"loc_parameters\", loc_parameters)"
   ]
  },
  {
   "cell_type": "code",
   "execution_count": 5,
   "metadata": {
    "scrolled": true
   },
   "outputs": [
    {
     "name": "stderr",
     "output_type": "stream",
     "text": [
      "2023-05-18 18:05:02 savchenk-NG-VN7-793G-79EG healpy[695064] INFO NSIDE = 256\n",
      "2023-05-18 18:05:02 savchenk-NG-VN7-793G-79EG healpy[695064] INFO ORDERING = NESTED in fits file\n",
      "2023-05-18 18:05:02 savchenk-NG-VN7-793G-79EG healpy[695064] INFO INDXSCHM = IMPLICIT\n",
      "2023-05-18 18:05:02 savchenk-NG-VN7-793G-79EG healpy[695064] INFO Ordering converted to RING\n"
     ]
    },
    {
     "name": "stdout",
     "output_type": "stream",
     "text": [
      "DataSource.v0.rt\n",
      "1684425902.2682345 \u001b[94mtop\u001b[0m 695064/139774155437888 \u001b[0;36mobject requesting cache\u001b[0m for [Event.v0.S230518h.unknown.loc-hp-52e7f7dc;NoneInTheInput]  requested by +Event.v0.S230518h.unknown.loc-hp-52e7f7dc direct\n",
      "1684425902.2683983 \u001b[94mtop\u001b[0m 695064/139774155437888 \u001b[0;35mcached, proceeding to restore\u001b[0m\n",
      "1684425902.2684593 \u001b[94mtop\u001b[0m 695064/139774155437888 \u001b[0;36msearching for cache starting from\u001b[0m [CacheCounterparts of size 0 at /data/ddcache/]\n",
      "Rev in hashe: None\n",
      "[CacheCounterparts of size 0 at /data/ddcache/] cached path: /data/ddcache//byevent/S230518h.unknown.loc-hp-52e7f7dc/any/741e1753/\n",
      "1684425902.2685857 \u001b[94mtop\u001b[0m 695064/139774155437888 [CacheCounterparts of size 0 at /data/ddcache/] found cache file: /data/ddcache//byevent/S230518h.unknown.loc-hp-52e7f7dc/any/741e1753//cache.pickle.gz\n",
      "Rev in hashe: None\n",
      "[CacheCounterparts of size 0 at /data/ddcache/] cached path: /data/ddcache//byevent/S230518h.unknown.loc-hp-52e7f7dc/any/741e1753/\n",
      "1684425902.2686617 \u001b[94mtop\u001b[0m 695064/139774155437888 load_content is restoring from /data/ddcache//byevent/S230518h.unknown.loc-hp-52e7f7dc/any/741e1753//cache.pickle.gz\n",
      "Rev in hashe: None\n",
      "[CacheCounterparts of size 0 at /data/ddcache/] cached path: /data/ddcache//byevent/S230518h.unknown.loc-hp-52e7f7dc/any/741e1753/\n",
      "1684425902.268922 \u001b[94mtop\u001b[0m 695064/139774155437888 will restore object from dir /data/ddcache//byevent/S230518h.unknown.loc-hp-52e7f7dc/any/741e1753/ [Event.v0.S230518h.unknown.loc-hp-52e7f7dc;NoneInTheInput]\n",
      "1684425902.268976 \u001b[94mtop\u001b[0m 695064/139774155437888 load_content is restoring from /data/ddcache//byevent/S230518h.unknown.loc-hp-52e7f7dc/any/741e1753//cache.pickle.gz\n",
      "1684425902.269153 \u001b[94mtop\u001b[0m 695064/139774155437888 cache [CacheCounterparts of size 0 at /data/ddcache/] returns True\n",
      "1684425902.2695024 \u001b[94mtop\u001b[0m 695064/139774155437888 ('analysis', None, 'Event.v0.S230518h.unknown.loc-hp-52e7f7dc')\n",
      "healpix url NOT empty: peak at {'ra': 96.15234375, 'dec': -13.248014905676953}\n",
      "1684425902.556632 \u001b[94mtop\u001b[0m 695064/139774155437888 \u001b[0;35mobject storing in cache\u001b[0m: [Event.v0.S230518h.2023-05-18T125908.000000.loc-hp-52e7f7dc;NoneInTheInput], cache [CacheCounterparts of size 0 at /data/ddcache/]\n",
      "1684425902.557091 \u001b[94mtop\u001b[0m 695064/139774155437888 \u001b[0;35mfirst non-transient cache\u001b[0m [CacheCounterparts of size 0 at /data/ddcache/] storing [Event.v0.S230518h.2023-05-18T125908.000000.loc-hp-52e7f7dc;NoneInTheInput]\n",
      "1684425902.5571985 \u001b[94mtop\u001b[0m 695064/139774155437888 [CacheCounterparts of size 0 at /data/ddcache/] storing: ('analysis', None, 'Event.v0.S230518h.unknown.loc-hp-52e7f7dc')\n",
      "Rev in hashe: None\n",
      "[CacheCounterparts of size 0 at /data/ddcache/] cached path: /data/ddcache//byevent/S230518h.unknown.loc-hp-52e7f7dc/any/741e1753/\n",
      "1684425902.5597036 \u001b[94mtop\u001b[0m 695064/139774155437888 assembling portable identity\n",
      "\u001b[31m now assumptions 0 / 0\u001b[0m\n",
      "Rev in hashe: None\n",
      "[CacheCounterparts of size 0 at /data/ddcache/] cached path: /data/ddcache//byevent/S230518h.unknown.loc-hp-52e7f7dc/any/741e1753/\n",
      "1684425902.5625064 \u001b[94mtop\u001b[0m 695064/139774155437888 [CacheCounterparts of size 0 at /data/ddcache/] found cache file: /data/ddcache//byevent/S230518h.unknown.loc-hp-52e7f7dc/any/741e1753//cache.pickle.gz\n",
      "Rev in hashe: None\n",
      "[CacheCounterparts of size 0 at /data/ddcache/] cached path: /data/ddcache//byevent/S230518h.unknown.loc-hp-52e7f7dc/any/741e1753/\n",
      "1684425902.5626569 \u001b[94mtop\u001b[0m 695064/139774155437888 load_content is restoring from /data/ddcache//byevent/S230518h.unknown.loc-hp-52e7f7dc/any/741e1753//cache.pickle.gz\n",
      "peak 96.15234375 -13.248014905676953\n",
      "50 % containment\n",
      "  RA 91.65 .. 259.76\n",
      "  RA 4.5 .. 355.91\n",
      "  Dec 76.57 .. 21.33\n",
      "  Dec -89.82 .. 8.08\n",
      "90 % containment\n",
      "  RA 93.9 .. 261.97\n",
      "  RA 2.25 .. 358.12\n",
      "  Dec 76.57 .. 48.02\n",
      "  Dec -89.82 .. 34.77\n"
     ]
    }
   ],
   "source": [
    "import imp\n",
    "\n",
    "da.reset()\n",
    "imp.reload(counterpart)\n",
    "imp.reload(counterpart.workflows)\n",
    "\n",
    "counterpart.DataSource.datasource = datasource \n",
    "\n",
    "print(counterpart.DataSource().get_version())\n",
    "\n",
    "if force_online_expected > 0:\n",
    "    counterpart.DetectONExpected.force_online_expected = True\n",
    "\n",
    "class OperationStatus(counterpart.OperationStatus):\n",
    "    version=\"v2\"    \n",
    "    \n",
    "    def main(self):\n",
    "        self.ibis_on=True\n",
    "        self.spi_on=True\n",
    "\n",
    "def define_event():\n",
    "    class Event(counterpart.Event):\n",
    "        event_name=name\n",
    "        event_origin=event_kind\n",
    "        healpix_url=healpix_url.replace(\"\\\"\",\"\")\n",
    "        loc_parameters = loc_parameters\n",
    "\n",
    "        cached=True\n",
    "\n",
    "        def setup(self):    \n",
    "\n",
    "            self.gcn=dict(number=gcn_number)\n",
    "\n",
    "            \n",
    "            self.event_time=dict(\n",
    "                utc=t0_utc,\n",
    "            )\n",
    "    return Event\n",
    "        \n",
    "\n",
    "ICE=define_event()().get()\n",
    "ICE.promote()\n",
    "\n",
    "ICE.loc_map\n",
    "\n",
    "ICE.store_cache(ICE._da_locally_complete)\n",
    "\n",
    "#counterpart.Event(use_event_kind=IceCubeEvent).promote()\n",
    "\n",
    "ICE.describe_loc_regions()\n",
    "\n",
    "#ICE.plot_map()\n",
    "\n",
    "\n",
    "#######\n",
    "\n",
    "\n",
    "\n",
    "\n",
    "#if len(sens.get_exceptions()) == 0:\n",
    "#    sens.plot_fancy()\n",
    "\n",
    "\n"
   ]
  },
  {
   "cell_type": "code",
   "execution_count": 6,
   "metadata": {},
   "outputs": [
    {
     "data": {
      "text/plain": [
       "{'ra': 96.15234375, 'dec': -13.248014905676953}"
      ]
     },
     "execution_count": 6,
     "metadata": {},
     "output_type": "execute_result"
    }
   ],
   "source": [
    "ICE.loc_parameters"
   ]
  },
  {
   "cell_type": "code",
   "execution_count": 7,
   "metadata": {},
   "outputs": [],
   "source": [
    "# from nb2workflow import nbadapter as nba\n",
    "\n",
    "# nba.nbrun(\"integralallsky.ipynb\", dict(t0_utc=t0_utc, rt=1))"
   ]
  },
  {
   "cell_type": "code",
   "execution_count": 8,
   "metadata": {},
   "outputs": [
    {
     "data": {
      "text/plain": [
       "'/home/savchenk/integral_lvk/counterpart.py'"
      ]
     },
     "execution_count": 8,
     "metadata": {},
     "output_type": "execute_result"
    }
   ],
   "source": [
    "counterpart.__file__"
   ]
  },
  {
   "cell_type": "code",
   "execution_count": 9,
   "metadata": {},
   "outputs": [
    {
     "name": "stdout",
     "output_type": "stream",
     "text": [
      "1684425903.0584068 \u001b[94mtop\u001b[0m 695064/139774155437888 \u001b[0;36mobject requesting cache\u001b[0m for [CountLimits.v2.2_span_300;NoneInTheInput]  requested by +CountLimits.v2.2_span_300 direct\n",
      "1684425903.058895 \u001b[94mtop\u001b[0m 695064/139774155437888 \u001b[0;36mobject requesting cache\u001b[0m for [SourceAssumptions.v2;NoneInTheInput]  requested by +SourceAssumptions.v2 input_of +CountLimits.v2.2_span_300 output_required_by_parent +CountLimits.v2.2_span_300 direct\n",
      "1684425903.0591545 \u001b[94mtop\u001b[0m 695064/139774155437888 \u001b[0;36mobject requesting cache\u001b[0m for [SourceAssumptions.v2;NoneInTheInput]  requested by +SourceAssumptions.v2 output_required_by_parent +SourceAssumptions.v2 input_of +CountLimits.v2.2_span_300 output_required_by_parent +CountLimits.v2.2_span_300 direct\n",
      "1684425903.060214 \u001b[94mtop\u001b[0m 695064/139774155437888 node [SourceAssumptions.v2;NoneInTheInput] main \u001b[92mDONE\u001b[0m!\n",
      "1684425903.0606117 \u001b[94mtop\u001b[0m 695064/139774155437888 \u001b[0;35mobject storing in cache\u001b[0m: [SourceAssumptions.v2;NoneInTheInput], cache [CacheCounterparts of size 0 at /data/ddcache/]\n",
      "1684425903.0607986 \u001b[94mtop\u001b[0m 695064/139774155437888 \u001b[0;35mfirst non-transient cache\u001b[0m [CacheCounterparts of size 0 at /data/ddcache/] storing [SourceAssumptions.v2;NoneInTheInput]\n",
      "1684425903.0629425 \u001b[94mtop\u001b[0m 695064/139774155437888 \u001b[0;36mobject requesting cache\u001b[0m for [DataSource.v0.rt;NoneInTheInput]  requested by +DataSource.v0.rt input_of +CountLimits.v2.2_span_300 output_required_by_parent +CountLimits.v2.2_span_300 direct\n",
      "1684425903.0632248 \u001b[94mtop\u001b[0m 695064/139774155437888 \u001b[0;36mobject requesting cache\u001b[0m for [DataSource.v0.rt;NoneInTheInput]  requested by +DataSource.v0.rt output_required_by_parent +DataSource.v0.rt input_of +CountLimits.v2.2_span_300 output_required_by_parent +CountLimits.v2.2_span_300 direct\n",
      "1684425903.0638802 \u001b[94mtop\u001b[0m 695064/139774155437888 node [DataSource.v0.rt;NoneInTheInput] main \u001b[92mDONE\u001b[0m!\n",
      "1684425903.0641818 \u001b[94mtop\u001b[0m 695064/139774155437888 \u001b[0;35mobject storing in cache\u001b[0m: [DataSource.v0.rt;NoneInTheInput], cache [CacheCounterparts of size 0 at /data/ddcache/]\n",
      "1684425903.0643506 \u001b[94mtop\u001b[0m 695064/139774155437888 \u001b[0;35mfirst non-transient cache\u001b[0m [CacheCounterparts of size 0 at /data/ddcache/] storing [DataSource.v0.rt;NoneInTheInput]\n",
      "1684425903.06545 \u001b[94mtop\u001b[0m 695064/139774155437888 \u001b[0;36mobject requesting cache\u001b[0m for [InstrumentSelection.v1;NoneInTheInput]  requested by +InstrumentSelection.v1 input_of +CountLimits.v2.2_span_300 output_required_by_parent +CountLimits.v2.2_span_300 direct\n",
      "1684425903.0659006 \u001b[94mtop\u001b[0m 695064/139774155437888 \u001b[0;36mobject requesting cache\u001b[0m for [DataSource.v0.rt;NoneInTheInput]  requested by +DataSource.v0.rt input_of +InstrumentSelection.v1 output_required_by_parent +InstrumentSelection.v1 input_of +CountLimits.v2.2_span_300 output_required_by_parent +CountLimits.v2.2_span_300 direct\n",
      "1684425903.0659459 \u001b[94mtop\u001b[0m 695064/139774155437888 the object has not record of restore config\n",
      "1684425903.065976 \u001b[94mtop\u001b[0m 695064/139774155437888 ('analysis', None, 'DataSource.v0.rt')\n",
      "1684425903.0663116 \u001b[94mtop\u001b[0m 695064/139774155437888 \u001b[0;36mobject requesting cache\u001b[0m for [InstrumentSelection.v1;NoneInTheInput]  requested by +InstrumentSelection.v1 output_required_by_parent +InstrumentSelection.v1 input_of +CountLimits.v2.2_span_300 output_required_by_parent +CountLimits.v2.2_span_300 direct\n",
      "1684425903.06731 \u001b[94mtop\u001b[0m 695064/139774155437888 node [InstrumentSelection.v1;NoneInTheInput] main \u001b[92mDONE\u001b[0m!\n",
      "1684425903.0682237 \u001b[94mtop\u001b[0m 695064/139774155437888 \u001b[0;35mobject storing in cache\u001b[0m: [InstrumentSelection.v1;NoneInTheInput], cache [CacheCounterparts of size 0 at /data/ddcache/]\n",
      "1684425903.068575 \u001b[94mtop\u001b[0m 695064/139774155437888 \u001b[0;35mfirst non-transient cache\u001b[0m [CacheCounterparts of size 0 at /data/ddcache/] storing [InstrumentSelection.v1;NoneInTheInput]\n",
      "1684425903.071039 \u001b[94mtop\u001b[0m 695064/139774155437888 \u001b[0;36mobject requesting cache\u001b[0m for [DetectNoData.v0;NoneInTheInput]  requested by +DetectNoData.v0 input_of +CountLimits.v2.2_span_300 output_required_by_parent +CountLimits.v2.2_span_300 direct\n",
      "1684425903.0714836 \u001b[94mtop\u001b[0m 695064/139774155437888 \u001b[0;36mobject requesting cache\u001b[0m for [DataSource.v0.rt;NoneInTheInput]  requested by +DataSource.v0.rt input_of +DetectNoData.v0 output_required_by_parent +DetectNoData.v0 input_of +CountLimits.v2.2_span_300 output_required_by_parent +CountLimits.v2.2_span_300 direct\n",
      "1684425903.0715282 \u001b[94mtop\u001b[0m 695064/139774155437888 the object has not record of restore config\n",
      "1684425903.0715582 \u001b[94mtop\u001b[0m 695064/139774155437888 ('analysis', None, 'DataSource.v0.rt')\n",
      "1684425903.0724063 \u001b[94mtop\u001b[0m 695064/139774155437888 \u001b[0;36mobject requesting cache\u001b[0m for [DetectONExpected.v0;NoneInTheInput]  requested by +DetectONExpected.v0 input_of +DetectNoData.v0 output_required_by_parent +DetectNoData.v0 input_of +CountLimits.v2.2_span_300 output_required_by_parent +CountLimits.v2.2_span_300 direct\n",
      "1684425903.0728674 \u001b[94mtop\u001b[0m 695064/139774155437888 \u001b[0;36mobject requesting cache\u001b[0m for [Event.v0.S230518h.2023-05-18T125908.000000.loc-hp-52e7f7dc;NoneInTheInput]  requested by +Event.v0.S230518h.2023-05-18T125908.000000.loc-hp-52e7f7dc input_of +DetectONExpected.v0 output_required_by_parent +DetectONExpected.v0 input_of +DetectNoData.v0 output_required_by_parent +DetectNoData.v0 input_of +CountLimits.v2.2_span_300 output_required_by_parent +CountLimits.v2.2_span_300 direct\n",
      "1684425903.0731456 \u001b[94mtop\u001b[0m 695064/139774155437888 \u001b[0;36mobject requesting cache\u001b[0m for [Event.v0.S230518h.2023-05-18T125908.000000.loc-hp-52e7f7dc;NoneInTheInput]  requested by +Event.v0.S230518h.2023-05-18T125908.000000.loc-hp-52e7f7dc output_required_by_parent +Event.v0.S230518h.2023-05-18T125908.000000.loc-hp-52e7f7dc input_of +DetectONExpected.v0 output_required_by_parent +DetectONExpected.v0 input_of +DetectNoData.v0 output_required_by_parent +DetectNoData.v0 input_of +CountLimits.v2.2_span_300 output_required_by_parent +CountLimits.v2.2_span_300 direct\n",
      "\u001b[0;36m2023-05-18T16:05:03.1\u001b[0m [\u001b[94mterpart.py: 362\u001b[0m\u001b[93m[Event.v0.S230518h.2\u001b[0m; \u001b[0;36mdescribe_l\u001b[0m: peak 96.15234375 -13.248014905676953\n",
      "\u001b[0;36m2023-05-18T16:05:03.2\u001b[0m [\u001b[94mterpart.py: 366\u001b[0m\u001b[93m[Event.v0.S230518h.2\u001b[0m; \u001b[0;36mdescribe_l\u001b[0m: 50 % containment\n",
      "\u001b[0;36m2023-05-18T16:05:03.2\u001b[0m [\u001b[94mterpart.py: 367\u001b[0m\u001b[93m[Event.v0.S230518h.2\u001b[0m; \u001b[0;36mdescribe_l\u001b[0m: RA 91.65 .. 259.76\n",
      "\u001b[0;36m2023-05-18T16:05:03.2\u001b[0m [\u001b[94mterpart.py: 368\u001b[0m\u001b[93m[Event.v0.S230518h.2\u001b[0m; \u001b[0;36mdescribe_l\u001b[0m: RA 4.5 .. 355.91\n",
      "\u001b[0;36m2023-05-18T16:05:03.2\u001b[0m [\u001b[94mterpart.py: 369\u001b[0m\u001b[93m[Event.v0.S230518h.2\u001b[0m; \u001b[0;36mdescribe_l\u001b[0m: Dec 76.57 .. 21.33\n",
      "\u001b[0;36m2023-05-18T16:05:03.2\u001b[0m [\u001b[94mterpart.py: 370\u001b[0m\u001b[93m[Event.v0.S230518h.2\u001b[0m; \u001b[0;36mdescribe_l\u001b[0m: Dec -89.82 .. 8.08\n",
      "\u001b[0;36m2023-05-18T16:05:03.3\u001b[0m [\u001b[94mterpart.py: 366\u001b[0m\u001b[93m[Event.v0.S230518h.2\u001b[0m; \u001b[0;36mdescribe_l\u001b[0m: 90 % containment\n",
      "\u001b[0;36m2023-05-18T16:05:03.3\u001b[0m [\u001b[94mterpart.py: 367\u001b[0m\u001b[93m[Event.v0.S230518h.2\u001b[0m; \u001b[0;36mdescribe_l\u001b[0m: RA 93.9 .. 261.97\n",
      "\u001b[0;36m2023-05-18T16:05:03.3\u001b[0m [\u001b[94mterpart.py: 368\u001b[0m\u001b[93m[Event.v0.S230518h.2\u001b[0m; \u001b[0;36mdescribe_l\u001b[0m: RA 2.25 .. 358.12\n",
      "\u001b[0;36m2023-05-18T16:05:03.3\u001b[0m [\u001b[94mterpart.py: 369\u001b[0m\u001b[93m[Event.v0.S230518h.2\u001b[0m; \u001b[0;36mdescribe_l\u001b[0m: Dec 76.57 .. 48.02\n",
      "\u001b[0;36m2023-05-18T16:05:03.3\u001b[0m [\u001b[94mterpart.py: 370\u001b[0m\u001b[93m[Event.v0.S230518h.2\u001b[0m; \u001b[0;36mdescribe_l\u001b[0m: Dec -89.82 .. 34.77\n",
      "1684425903.3328726 \u001b[94mtop\u001b[0m 695064/139774155437888 node [Event.v0.S230518h.2023-05-18T125908.000000.loc-hp-52e7f7dc;NoneInTheInput] main \u001b[92mDONE\u001b[0m!\n",
      "1684425903.3339553 \u001b[94mtop\u001b[0m 695064/139774155437888 \u001b[0;35mobject storing in cache\u001b[0m: [Event.v0.S230518h.2023-05-18T125908.000000.loc-hp-52e7f7dc;NoneInTheInput], cache [CacheCounterparts of size 0 at /data/ddcache/]\n",
      "1684425903.3341777 \u001b[94mtop\u001b[0m 695064/139774155437888 \u001b[0;35mfirst non-transient cache\u001b[0m [CacheCounterparts of size 0 at /data/ddcache/] storing [Event.v0.S230518h.2023-05-18T125908.000000.loc-hp-52e7f7dc;NoneInTheInput]\n",
      "1684425903.3342457 \u001b[94mtop\u001b[0m 695064/139774155437888 [CacheCounterparts of size 0 at /data/ddcache/] storing: ('analysis', None, 'Event.v0.S230518h.2023-05-18T125908.000000.loc-hp-52e7f7dc')\n",
      "Rev in hashe: None\n",
      "[CacheCounterparts of size 0 at /data/ddcache/] cached path: /data/ddcache//byevent/S230518h.2023-05-18T125908.000000.loc-hp-52e7f7dc/any/741e1753/\n",
      "1684425903.3361306 \u001b[94mtop\u001b[0m 695064/139774155437888 assembling portable identity\n",
      "\u001b[31m now assumptions 0 / 0\u001b[0m\n",
      "Rev in hashe: None\n",
      "[CacheCounterparts of size 0 at /data/ddcache/] cached path: /data/ddcache//byevent/S230518h.2023-05-18T125908.000000.loc-hp-52e7f7dc/any/741e1753/\n",
      "1684425903.3379977 \u001b[94mtop\u001b[0m 695064/139774155437888 [CacheCounterparts of size 0 at /data/ddcache/] found cache file: /data/ddcache//byevent/S230518h.2023-05-18T125908.000000.loc-hp-52e7f7dc/any/741e1753//cache.pickle.gz\n",
      "Rev in hashe: None\n",
      "[CacheCounterparts of size 0 at /data/ddcache/] cached path: /data/ddcache//byevent/S230518h.2023-05-18T125908.000000.loc-hp-52e7f7dc/any/741e1753/\n",
      "1684425903.3380818 \u001b[94mtop\u001b[0m 695064/139774155437888 load_content is restoring from /data/ddcache//byevent/S230518h.2023-05-18T125908.000000.loc-hp-52e7f7dc/any/741e1753//cache.pickle.gz\n",
      "1684425903.3386393 \u001b[94mtop\u001b[0m 695064/139774155437888 \u001b[0;36mobject requesting cache\u001b[0m for [DetectONExpected.v0;NoneInTheInput]  requested by +DetectONExpected.v0 output_required_by_parent +DetectONExpected.v0 input_of +DetectNoData.v0 output_required_by_parent +DetectNoData.v0 input_of +CountLimits.v2.2_span_300 output_required_by_parent +CountLimits.v2.2_span_300 direct\n",
      "\u001b[0;36m2023-05-18T16:05:03.3\u001b[0m [\u001b[94mterpart.py: 532\u001b[0m\u001b[93m[DetectONExpected.v0\u001b[0m; \u001b[0;36m      main\u001b[0m: FORCED online expected\n",
      "1684425903.3396993 \u001b[94mtop\u001b[0m 695064/139774155437888 node [DetectONExpected.v0;NoneInTheInput] main \u001b[92mDONE\u001b[0m!\n",
      "1684425903.3405058 \u001b[94mtop\u001b[0m 695064/139774155437888 \u001b[0;35mobject storing in cache\u001b[0m: [DetectONExpected.v0;NoneInTheInput], cache [CacheCounterparts of size 0 at /data/ddcache/]\n",
      "1684425903.3406916 \u001b[94mtop\u001b[0m 695064/139774155437888 \u001b[0;35mfirst non-transient cache\u001b[0m [CacheCounterparts of size 0 at /data/ddcache/] storing [DetectONExpected.v0;NoneInTheInput]\n",
      "1684425903.341321 \u001b[94mtop\u001b[0m 695064/139774155437888 \u001b[0;36mobject requesting cache\u001b[0m for [Event.v0.S230518h.2023-05-18T125908.000000.loc-hp-52e7f7dc;NoneInTheInput]  requested by +Event.v0.S230518h.2023-05-18T125908.000000.loc-hp-52e7f7dc input_of +DetectNoData.v0 output_required_by_parent +DetectNoData.v0 input_of +CountLimits.v2.2_span_300 output_required_by_parent +CountLimits.v2.2_span_300 direct\n",
      "1684425903.3413668 \u001b[94mtop\u001b[0m 695064/139774155437888 the object was recovered with a different restore config: {'datafile_restore_mode': 'copy', 'datafile_target_dir': None} became {'datafile_restore_mode': 'copy', 'test_files': True}\n",
      "1684425903.3414664 \u001b[94mtop\u001b[0m 695064/139774155437888 ('analysis', None, 'Event.v0.S230518h.2023-05-18T125908.000000.loc-hp-52e7f7dc')\n",
      "1684425903.3420773 \u001b[94mtop\u001b[0m 695064/139774155437888 \u001b[0;36mobject requesting cache\u001b[0m for [DetectNoData.v0;NoneInTheInput]  requested by +DetectNoData.v0 output_required_by_parent +DetectNoData.v0 input_of +CountLimits.v2.2_span_300 output_required_by_parent +CountLimits.v2.2_span_300 direct\n",
      "1684425903.3428812 \u001b[94mtop\u001b[0m 695064/139774155437888 node [DetectNoData.v0;NoneInTheInput] main \u001b[92mDONE\u001b[0m!\n",
      "1684425903.3435152 \u001b[94mtop\u001b[0m 695064/139774155437888 \u001b[0;35mobject storing in cache\u001b[0m: [DetectNoData.v0;NoneInTheInput], cache [CacheCounterparts of size 0 at /data/ddcache/]\n",
      "1684425903.3437088 \u001b[94mtop\u001b[0m 695064/139774155437888 \u001b[0;35mfirst non-transient cache\u001b[0m [CacheCounterparts of size 0 at /data/ddcache/] storing [DetectNoData.v0;NoneInTheInput]\n",
      "1684425903.3446362 \u001b[94mtop\u001b[0m 695064/139774155437888 \u001b[0;36mobject requesting cache\u001b[0m for [OperationStatus.v2;NoneInTheInput]  requested by +OperationStatus.v2 input_of +CountLimits.v2.2_span_300 output_required_by_parent +CountLimits.v2.2_span_300 direct\n",
      "1684425903.3447094 \u001b[94mtop\u001b[0m 695064/139774155437888 \u001b[0;35mcached, proceeding to restore\u001b[0m\n",
      "1684425903.3447442 \u001b[94mtop\u001b[0m 695064/139774155437888 \u001b[0;36msearching for cache starting from\u001b[0m [CacheCounterparts of size 0 at /data/ddcache/]\n",
      "Rev in hashe: None\n",
      "[CacheCounterparts of size 0 at /data/ddcache/] cached path: /data/ddcache//byevent/S230518h.2023-05-18T125908.000000.loc-hp-52e7f7dc/OperationStatus.v2/6f50566f/\n",
      "1684425903.3448985 \u001b[94mtop\u001b[0m 695064/139774155437888 [CacheCounterparts of size 0 at /data/ddcache/] found cache file: /data/ddcache//byevent/S230518h.2023-05-18T125908.000000.loc-hp-52e7f7dc/OperationStatus.v2/6f50566f//cache.pickle.gz\n",
      "Rev in hashe: None\n",
      "[CacheCounterparts of size 0 at /data/ddcache/] cached path: /data/ddcache//byevent/S230518h.2023-05-18T125908.000000.loc-hp-52e7f7dc/OperationStatus.v2/6f50566f/\n",
      "1684425903.3450263 \u001b[94mtop\u001b[0m 695064/139774155437888 load_content is restoring from /data/ddcache//byevent/S230518h.2023-05-18T125908.000000.loc-hp-52e7f7dc/OperationStatus.v2/6f50566f//cache.pickle.gz\n",
      "Rev in hashe: None\n",
      "[CacheCounterparts of size 0 at /data/ddcache/] cached path: /data/ddcache//byevent/S230518h.2023-05-18T125908.000000.loc-hp-52e7f7dc/OperationStatus.v2/6f50566f/\n",
      "1684425903.345297 \u001b[94mtop\u001b[0m 695064/139774155437888 will restore object from dir /data/ddcache//byevent/S230518h.2023-05-18T125908.000000.loc-hp-52e7f7dc/OperationStatus.v2/6f50566f/ [OperationStatus.v2;NoneInTheInput]\n",
      "1684425903.345372 \u001b[94mtop\u001b[0m 695064/139774155437888 load_content is restoring from /data/ddcache//byevent/S230518h.2023-05-18T125908.000000.loc-hp-52e7f7dc/OperationStatus.v2/6f50566f//cache.pickle.gz\n",
      "1684425903.3456237 \u001b[94mtop\u001b[0m 695064/139774155437888 cache [CacheCounterparts of size 0 at /data/ddcache/] returns True\n",
      "1684425903.346103 \u001b[94mtop\u001b[0m 695064/139774155437888 ('analysis', ('analysis', None, 'Event.v0.S230518h.2023-05-18T125908.000000.loc-hp-52e7f7dc'), 'OperationStatus.v2')\n",
      "1684425903.3468444 \u001b[94mtop\u001b[0m 695064/139774155437888 \u001b[0;36mobject requesting cache\u001b[0m for [Event.v0.S230518h.2023-05-18T125908.000000.loc-hp-52e7f7dc;NoneInTheInput]  requested by +Event.v0.S230518h.2023-05-18T125908.000000.loc-hp-52e7f7dc input_of +CountLimits.v2.2_span_300 output_required_by_parent +CountLimits.v2.2_span_300 direct\n",
      "1684425903.3468933 \u001b[94mtop\u001b[0m 695064/139774155437888 the object was recovered with a different restore config: {'datafile_restore_mode': 'copy', 'datafile_target_dir': None} became {'datafile_restore_mode': 'copy', 'test_files': True}\n",
      "1684425903.3469794 \u001b[94mtop\u001b[0m 695064/139774155437888 ('analysis', None, 'Event.v0.S230518h.2023-05-18T125908.000000.loc-hp-52e7f7dc')\n",
      "1684425903.3473876 \u001b[94mtop\u001b[0m 695064/139774155437888 \u001b[0;36mobject requesting cache\u001b[0m for [CountLimits.v2.2_span_300;NoneInTheInput]  requested by +CountLimits.v2.2_span_300 output_required_by_parent +CountLimits.v2.2_span_300 direct\n",
      "\u001b[0;36m2023-05-18T16:05:03.3\u001b[0m [\u001b[94mterpart.py: 677\u001b[0m\u001b[93m[CountLimits.v2.2_sp\u001b[0m; \u001b[0;36m   get_ias\u001b[0m: got ias data:\n",
      "\u001b[0;36m2023-05-18T16:05:03.3\u001b[0m [\u001b[94mterpart.py: 679\u001b[0m\u001b[93m[CountLimits.v2.2_sp\u001b[0m; \u001b[0;36m   get_ias\u001b[0m: summary 1 {'ACS': {'s_0_05': {'0': {'scale_s': 0.05000000000000001, 'meanrate': 87609.79666666665, 'maxrate': 95719.99999999999, 'stdvar': 1560.0735747571507, 'meanerr': 1323.705380110443, 'excvar': 1.1785655616410553, 'maxsnr': 4.973494628856585, 'maxsnr_t': -116.72019992256537, 'localfar': 0.003945395796431\n",
      "\u001b[0;36m2023-05-18T16:05:03.3\u001b[0m [\u001b[94mterpart.py: 679\u001b[0m\u001b[93m[CountLimits.v2.2_sp\u001b[0m; \u001b[0;36m   get_ias\u001b[0m: reportable_excesses 40 [{'scale': 1.1500000000000001, 'offset': 7, 'excess': {'snr': 3.116652181081367, 'rel_s_scale': 7.979800032563102, 'rate': 88674.78260869565, 'rate_err': 277.6841850308675, 'rate_overbkg': 1065.3058499541075, 'FAP': 0.12296123335449348}}, {'scale': 0.20000000000000004, 'offset': 0, 'excess': {'snr':\n",
      "\u001b[0;36m2023-05-18T16:05:03.3\u001b[0m [\u001b[94mterpart.py: 679\u001b[0m\u001b[93m[CountLimits.v2.2_sp\u001b[0m; \u001b[0;36m   get_ias\u001b[0m: excvar_summary 4 {'hf_200ms': [1.1785655616410553, 1.1711926075217467, 1.1819969986422783], 'mf_200ms_2s': [1.197605539021448, 1.1905296212784586, 1.1993112555384038, 1.185140520619698, 1.1929538404911761, 1.2241929512176264, 1.2193417242964826, 1.2096693484889092, 1.2402703393357897, 1.220562199077662, 1.2221278381\n"
     ]
    },
    {
     "ename": "UnhandledAnalysisException",
     "evalue": "\n\n>>> main log\n>>> \u001b[0;36m2023-05-18T16:05:03.3\u001b[0m [\u001b[94mterpart.py: 677\u001b[0m\u001b[93m[CountLimits.v2.2_sp\u001b[0m; \u001b[0;36m   get_ias\u001b[0m: got ias data:\n>>> \u001b[0;36m2023-05-18T16:05:03.3\u001b[0m [\u001b[94mterpart.py: 679\u001b[0m\u001b[93m[CountLimits.v2.2_sp\u001b[0m; \u001b[0;36m   get_ias\u001b[0m: summary 1 {'ACS': {'s_0_05': {'0': {'scale_s': 0.05000000000000001, 'meanrate': 87609.79666666665, 'maxrate': 95719.99999999999, 'stdvar': 1560.0735747571507, 'meanerr': 1323.705380110443, 'excvar': 1.1785655616410553, 'maxsnr': 4.973494628856585, 'maxsnr_t': -116.72019992256537, 'localfar': 0.003945395796431\n>>> \u001b[0;36m2023-05-18T16:05:03.3\u001b[0m [\u001b[94mterpart.py: 679\u001b[0m\u001b[93m[CountLimits.v2.2_sp\u001b[0m; \u001b[0;36m   get_ias\u001b[0m: reportable_excesses 40 [{'scale': 1.1500000000000001, 'offset': 7, 'excess': {'snr': 3.116652181081367, 'rel_s_scale': 7.979800032563102, 'rate': 88674.78260869565, 'rate_err': 277.6841850308675, 'rate_overbkg': 1065.3058499541075, 'FAP': 0.12296123335449348}}, {'scale': 0.20000000000000004, 'offset': 0, 'excess': {'snr':\n>>> \u001b[0;36m2023-05-18T16:05:03.3\u001b[0m [\u001b[94mterpart.py: 679\u001b[0m\u001b[93m[CountLimits.v2.2_sp\u001b[0m; \u001b[0;36m   get_ias\u001b[0m: excvar_summary 4 {'hf_200ms': [1.1785655616410553, 1.1711926075217467, 1.1819969986422783], 'mf_200ms_2s': [1.197605539021448, 1.1905296212784586, 1.1993112555384038, 1.185140520619698, 1.1929538404911761, 1.2241929512176264, 1.2193417242964826, 1.2096693484889092, 1.2402703393357897, 1.220562199077662, 1.2221278381\n>>> \n\nTraceback (most recent call last):\n  File \"/home/savchenk/miniconda-recent/lib/python3.9/site-packages/dataanalysis/core.py\", line 1117, in process_run_main\n    mr=self.main() # main!\n  File \"/home/savchenk/miniconda-recent/lib/python3.9/site-packages/dataanalysis/printhook.py\", line 280, in nf\n    function_return=f(s,*a,**b)\n  File \"/home/savchenk/integral_lvk/counterpart.py\", line 781, in main\n    count_limits[kind][target] = self.get_count_limit(hkname[target], scale=self.input_assumptions.duration_by_kind[kind])\n  File \"/home/savchenk/integral_lvk/counterpart.py\", line 645, in get_count_limit\n    return self.get_count_limit_rt(target, scale, nsig)\n  File \"/home/savchenk/integral_lvk/counterpart.py\", line 698, in get_count_limit_rt\n    self.hk[target][scale] = self.ias_data['summary']['ACS_rt'][('s_%.3lg'%_scale).replace(\".\",\"_\")]\nKeyError: 'ACS_rt'\n\n>>> KeyError('ACS_rt')\n\nin DataAnalysis node: [CountLimits.v2.2_span_300;NoneInTheInput]\nrequested by: +CountLimits.v2.2_span_300 output_required_by_parent +CountLimits.v2.2_span_300 direct\n",
     "output_type": "error",
     "traceback": [
      "\u001b[0;31m---------------------------------------------------------------------------\u001b[0m",
      "\u001b[0;31mKeyError\u001b[0m                                  Traceback (most recent call last)",
      "File \u001b[0;32m~/miniconda-recent/lib/python3.9/site-packages/dataanalysis/core.py:1117\u001b[0m, in \u001b[0;36mDataAnalysis.process_run_main\u001b[0;34m(self)\u001b[0m\n\u001b[1;32m   1116\u001b[0m \u001b[39mtry\u001b[39;00m:\n\u001b[0;32m-> 1117\u001b[0m     mr\u001b[39m=\u001b[39m\u001b[39mself\u001b[39;49m\u001b[39m.\u001b[39;49mmain() \u001b[39m# main!\u001b[39;00m\n\u001b[1;32m   1118\u001b[0m \u001b[39mexcept\u001b[39;00m AnalysisException \u001b[39mas\u001b[39;00m ae:\n",
      "File \u001b[0;32m~/miniconda-recent/lib/python3.9/site-packages/dataanalysis/printhook.py:280\u001b[0m, in \u001b[0;36mdecorate_method_log.<locals>.nf\u001b[0;34m(s, *a, **b)\u001b[0m\n\u001b[1;32m    279\u001b[0m \u001b[39mtry\u001b[39;00m:\n\u001b[0;32m--> 280\u001b[0m     function_return\u001b[39m=\u001b[39mf(s,\u001b[39m*\u001b[39;49ma,\u001b[39m*\u001b[39;49m\u001b[39m*\u001b[39;49mb)\n\u001b[1;32m    281\u001b[0m \u001b[39mexcept\u001b[39;00m \u001b[39mException\u001b[39;00m \u001b[39mas\u001b[39;00m e:\n",
      "File \u001b[0;32m~/integral_lvk/counterpart.py:781\u001b[0m, in \u001b[0;36mCountLimits.main\u001b[0;34m(self)\u001b[0m\n\u001b[1;32m    780\u001b[0m         \u001b[39mfor\u001b[39;00m target \u001b[39min\u001b[39;00m \u001b[39mself\u001b[39m\u001b[39m.\u001b[39mtargets:\n\u001b[0;32m--> 781\u001b[0m             count_limits[kind][target] \u001b[39m=\u001b[39m \u001b[39mself\u001b[39;49m\u001b[39m.\u001b[39;49mget_count_limit(hkname[target], scale\u001b[39m=\u001b[39;49m\u001b[39mself\u001b[39;49m\u001b[39m.\u001b[39;49minput_assumptions\u001b[39m.\u001b[39;49mduration_by_kind[kind])\n\u001b[1;32m    783\u001b[0m \u001b[39mif\u001b[39;00m \u001b[39mself\u001b[39m\u001b[39m.\u001b[39minput_datasource\u001b[39m.\u001b[39mdatasource \u001b[39m==\u001b[39m \u001b[39m\"\u001b[39m\u001b[39mnrt\u001b[39m\u001b[39m\"\u001b[39m:\n",
      "File \u001b[0;32m~/integral_lvk/counterpart.py:645\u001b[0m, in \u001b[0;36mCountLimits.get_count_limit\u001b[0;34m(self, target, scale, nsig)\u001b[0m\n\u001b[1;32m    644\u001b[0m \u001b[39mif\u001b[39;00m \u001b[39mself\u001b[39m\u001b[39m.\u001b[39minput_datasource\u001b[39m.\u001b[39mdatasource \u001b[39m==\u001b[39m \u001b[39m\"\u001b[39m\u001b[39mrt\u001b[39m\u001b[39m\"\u001b[39m:\n\u001b[0;32m--> 645\u001b[0m     \u001b[39mreturn\u001b[39;00m \u001b[39mself\u001b[39;49m\u001b[39m.\u001b[39;49mget_count_limit_rt(target, scale, nsig)\n\u001b[1;32m    647\u001b[0m \u001b[39mif\u001b[39;00m \u001b[39mself\u001b[39m\u001b[39m.\u001b[39minput_datasource\u001b[39m.\u001b[39mdatasource \u001b[39m==\u001b[39m \u001b[39m\"\u001b[39m\u001b[39mnrt\u001b[39m\u001b[39m\"\u001b[39m:\n",
      "File \u001b[0;32m~/integral_lvk/counterpart.py:698\u001b[0m, in \u001b[0;36mCountLimits.get_count_limit_rt\u001b[0;34m(self, target, scale, nsig)\u001b[0m\n\u001b[1;32m    696\u001b[0m _scale \u001b[39m=\u001b[39m scale\n\u001b[0;32m--> 698\u001b[0m \u001b[39mself\u001b[39m\u001b[39m.\u001b[39mhk[target][scale] \u001b[39m=\u001b[39m \u001b[39mself\u001b[39;49m\u001b[39m.\u001b[39;49mias_data[\u001b[39m'\u001b[39;49m\u001b[39msummary\u001b[39;49m\u001b[39m'\u001b[39;49m][\u001b[39m'\u001b[39;49m\u001b[39mACS_rt\u001b[39;49m\u001b[39m'\u001b[39;49m][(\u001b[39m'\u001b[39m\u001b[39ms_\u001b[39m\u001b[39m%.3lg\u001b[39;00m\u001b[39m'\u001b[39m\u001b[39m%\u001b[39m_scale)\u001b[39m.\u001b[39mreplace(\u001b[39m\"\u001b[39m\u001b[39m.\u001b[39m\u001b[39m\"\u001b[39m,\u001b[39m\"\u001b[39m\u001b[39m_\u001b[39m\u001b[39m\"\u001b[39m)]\n\u001b[1;32m    700\u001b[0m \u001b[39mself\u001b[39m\u001b[39m.\u001b[39mhk[target][scale][\u001b[39m'\u001b[39m\u001b[39mmaxsig\u001b[39m\u001b[39m'\u001b[39m] \u001b[39m=\u001b[39m \u001b[39mself\u001b[39m\u001b[39m.\u001b[39mhk[target][scale][\u001b[39m'\u001b[39m\u001b[39mmaxsnr\u001b[39m\u001b[39m'\u001b[39m]\n",
      "\u001b[0;31mKeyError\u001b[0m: 'ACS_rt'",
      "\nDuring handling of the above exception, another exception occurred:\n",
      "\u001b[0;31mUnhandledAnalysisException\u001b[0m                Traceback (most recent call last)",
      "\u001b[1;32m/home/savchenk/integral_lvk/gcn.ipynb Cell 9\u001b[0m in \u001b[0;36m<cell line: 5>\u001b[0;34m()\u001b[0m\n\u001b[1;32m      <a href='vscode-notebook-cell:/home/savchenk/integral_lvk/gcn.ipynb#X55sZmlsZQ%3D%3D?line=0'>1</a>\u001b[0m \u001b[39mclass\u001b[39;00m \u001b[39mCountLimits\u001b[39;00m(counterpart\u001b[39m.\u001b[39mCountLimits):\n\u001b[1;32m      <a href='vscode-notebook-cell:/home/savchenk/integral_lvk/gcn.ipynb#X55sZmlsZQ%3D%3D?line=1'>2</a>\u001b[0m     cached\u001b[39m=\u001b[39m\u001b[39mFalse\u001b[39;00m\n\u001b[0;32m----> <a href='vscode-notebook-cell:/home/savchenk/integral_lvk/gcn.ipynb#X55sZmlsZQ%3D%3D?line=4'>5</a>\u001b[0m cl \u001b[39m=\u001b[39m CountLimits()\u001b[39m.\u001b[39;49mget()\n",
      "File \u001b[0;32m~/miniconda-recent/lib/python3.9/site-packages/dataanalysis/core.py:935\u001b[0m, in \u001b[0;36mDataAnalysis.get\u001b[0;34m(self, **aa)\u001b[0m\n\u001b[1;32m    933\u001b[0m     os\u001b[39m.\u001b[39mchdir(wd)\n\u001b[1;32m    934\u001b[0m     log(\u001b[39m\"\u001b[39m\u001b[39mobject will be processed in\u001b[39m\u001b[39m\"\u001b[39m,wd)\n\u001b[0;32m--> 935\u001b[0m     result\u001b[39m=\u001b[39m\u001b[39mself\u001b[39;49m\u001b[39m.\u001b[39;49mprocess(output_required\u001b[39m=\u001b[39;49m\u001b[39mTrue\u001b[39;49;00m,\u001b[39m*\u001b[39;49m\u001b[39m*\u001b[39;49maa)[\u001b[39m1\u001b[39m]\n\u001b[1;32m    936\u001b[0m \u001b[39mexcept\u001b[39;00m:\n\u001b[1;32m    937\u001b[0m     os\u001b[39m.\u001b[39mchdir(cwd)\n",
      "File \u001b[0;32m~/miniconda-recent/lib/python3.9/site-packages/dataanalysis/core.py:1439\u001b[0m, in \u001b[0;36mDataAnalysis.process\u001b[0;34m(self, process_function, restore_rules, restore_config, requested_by, **extra)\u001b[0m\n\u001b[1;32m   1435\u001b[0m     log(\u001b[39m\"\u001b[39m\u001b[39mneed to guarantee that explicit input is available\u001b[39m\u001b[39m\"\u001b[39m)\n\u001b[1;32m   1437\u001b[0m     \u001b[39m## if output has to be generated, but explicite input was not prepared, do it\u001b[39;00m\n\u001b[1;32m   1438\u001b[0m     \u001b[39m## process\u001b[39;00m\n\u001b[0;32m-> 1439\u001b[0m     \u001b[39mreturn\u001b[39;00m \u001b[39mself\u001b[39;49m\u001b[39m.\u001b[39;49mprocess(process_function\u001b[39m=\u001b[39;49mprocess_function,\n\u001b[1;32m   1440\u001b[0m                         restore_rules\u001b[39m=\u001b[39;49mupdate_dict(restore_rules,\u001b[39mdict\u001b[39;49m(explicit_input_required\u001b[39m=\u001b[39;49m\u001b[39mTrue\u001b[39;49;00m)),requested_by\u001b[39m=\u001b[39;49m[\u001b[39m'\u001b[39;49m\u001b[39moutput_required_by_parent\u001b[39;49m\u001b[39m'\u001b[39;49m]\u001b[39m+\u001b[39;49mrequested_by )\n\u001b[1;32m   1441\u001b[0m                         \u001b[39m#restore_rules=update_dict(restore_rules,dict(output_required=True,explicit_input_required=True)) )\u001b[39;00m\n\u001b[1;32m   1442\u001b[0m     \u001b[39m##  /process\u001b[39;00m\n\u001b[1;32m   1445\u001b[0m \u001b[39mif\u001b[39;00m restore_rules[\u001b[39m'\u001b[39m\u001b[39mcan_delegate\u001b[39m\u001b[39m'\u001b[39m] \u001b[39mand\u001b[39;00m \u001b[39mself\u001b[39m\u001b[39m.\u001b[39mcached:\n",
      "File \u001b[0;32m~/miniconda-recent/lib/python3.9/site-packages/dataanalysis/core.py:1479\u001b[0m, in \u001b[0;36mDataAnalysis.process\u001b[0;34m(self, process_function, restore_rules, restore_config, requested_by, **extra)\u001b[0m\n\u001b[1;32m   1475\u001b[0m     \u001b[39m#return fih, self # RETURN!\u001b[39;00m\n\u001b[1;32m   1477\u001b[0m \u001b[39mif\u001b[39;00m restore_rules[\u001b[39m'\u001b[39m\u001b[39mrun_if_haveto\u001b[39m\u001b[39m'\u001b[39m] \u001b[39mor\u001b[39;00m \u001b[39mself\u001b[39m\u001b[39m.\u001b[39mrun_for_hashe:\n\u001b[0;32m-> 1479\u001b[0m     mr\u001b[39m=\u001b[39m\u001b[39mself\u001b[39;49m\u001b[39m.\u001b[39;49mprocess_run_main() \u001b[39m# MAIN!\u001b[39;00m\n\u001b[1;32m   1481\u001b[0m     \u001b[39m# failing should lead to checking cache\u001b[39;00m\n\u001b[1;32m   1483\u001b[0m     \u001b[39mself\u001b[39m\u001b[39m.\u001b[39mprocess_timespent_interpret()\n",
      "File \u001b[0;32m~/miniconda-recent/lib/python3.9/site-packages/dataanalysis/core.py:1135\u001b[0m, in \u001b[0;36mDataAnalysis.process_run_main\u001b[0;34m(self)\u001b[0m\n\u001b[1;32m   1131\u001b[0m         log(\u001b[39m\"\u001b[39m\u001b[39munable to report exception!\u001b[39m\u001b[39m\"\u001b[39m)\n\u001b[1;32m   1133\u001b[0m     \u001b[39mself\u001b[39m\u001b[39m.\u001b[39mprocess_hooks(\u001b[39m\"\u001b[39m\u001b[39mtop\u001b[39m\u001b[39m\"\u001b[39m,\u001b[39mself\u001b[39m,message\u001b[39m=\u001b[39m\u001b[39m\"\u001b[39m\u001b[39munhandled exception\u001b[39m\u001b[39m\"\u001b[39m,exception\u001b[39m=\u001b[39m\u001b[39mrepr\u001b[39m(ex),mainlog\u001b[39m=\u001b[39mmain_log\u001b[39m.\u001b[39mgetvalue(),state\u001b[39m=\u001b[39m\u001b[39m\"\u001b[39m\u001b[39mnode_unhandled_exception\u001b[39m\u001b[39m\"\u001b[39m)\n\u001b[0;32m-> 1135\u001b[0m     \u001b[39mraise\u001b[39;00m UnhandledAnalysisException(\n\u001b[1;32m   1136\u001b[0m         analysis_node\u001b[39m=\u001b[39m\u001b[39mself\u001b[39m,\n\u001b[1;32m   1137\u001b[0m         main_log\u001b[39m=\u001b[39mmain_log\u001b[39m.\u001b[39mgetvalue(),\n\u001b[1;32m   1138\u001b[0m         exception\u001b[39m=\u001b[39mex,\n\u001b[1;32m   1139\u001b[0m     )\n\u001b[1;32m   1140\u001b[0m \u001b[39mself\u001b[39m\u001b[39m.\u001b[39mstop_main_watchdog()\n\u001b[1;32m   1142\u001b[0m main_logstream\u001b[39m.\u001b[39mforget()\n",
      "\u001b[0;31mUnhandledAnalysisException\u001b[0m: \n\n>>> main log\n>>> \u001b[0;36m2023-05-18T16:05:03.3\u001b[0m [\u001b[94mterpart.py: 677\u001b[0m\u001b[93m[CountLimits.v2.2_sp\u001b[0m; \u001b[0;36m   get_ias\u001b[0m: got ias data:\n>>> \u001b[0;36m2023-05-18T16:05:03.3\u001b[0m [\u001b[94mterpart.py: 679\u001b[0m\u001b[93m[CountLimits.v2.2_sp\u001b[0m; \u001b[0;36m   get_ias\u001b[0m: summary 1 {'ACS': {'s_0_05': {'0': {'scale_s': 0.05000000000000001, 'meanrate': 87609.79666666665, 'maxrate': 95719.99999999999, 'stdvar': 1560.0735747571507, 'meanerr': 1323.705380110443, 'excvar': 1.1785655616410553, 'maxsnr': 4.973494628856585, 'maxsnr_t': -116.72019992256537, 'localfar': 0.003945395796431\n>>> \u001b[0;36m2023-05-18T16:05:03.3\u001b[0m [\u001b[94mterpart.py: 679\u001b[0m\u001b[93m[CountLimits.v2.2_sp\u001b[0m; \u001b[0;36m   get_ias\u001b[0m: reportable_excesses 40 [{'scale': 1.1500000000000001, 'offset': 7, 'excess': {'snr': 3.116652181081367, 'rel_s_scale': 7.979800032563102, 'rate': 88674.78260869565, 'rate_err': 277.6841850308675, 'rate_overbkg': 1065.3058499541075, 'FAP': 0.12296123335449348}}, {'scale': 0.20000000000000004, 'offset': 0, 'excess': {'snr':\n>>> \u001b[0;36m2023-05-18T16:05:03.3\u001b[0m [\u001b[94mterpart.py: 679\u001b[0m\u001b[93m[CountLimits.v2.2_sp\u001b[0m; \u001b[0;36m   get_ias\u001b[0m: excvar_summary 4 {'hf_200ms': [1.1785655616410553, 1.1711926075217467, 1.1819969986422783], 'mf_200ms_2s': [1.197605539021448, 1.1905296212784586, 1.1993112555384038, 1.185140520619698, 1.1929538404911761, 1.2241929512176264, 1.2193417242964826, 1.2096693484889092, 1.2402703393357897, 1.220562199077662, 1.2221278381\n>>> \n\nTraceback (most recent call last):\n  File \"/home/savchenk/miniconda-recent/lib/python3.9/site-packages/dataanalysis/core.py\", line 1117, in process_run_main\n    mr=self.main() # main!\n  File \"/home/savchenk/miniconda-recent/lib/python3.9/site-packages/dataanalysis/printhook.py\", line 280, in nf\n    function_return=f(s,*a,**b)\n  File \"/home/savchenk/integral_lvk/counterpart.py\", line 781, in main\n    count_limits[kind][target] = self.get_count_limit(hkname[target], scale=self.input_assumptions.duration_by_kind[kind])\n  File \"/home/savchenk/integral_lvk/counterpart.py\", line 645, in get_count_limit\n    return self.get_count_limit_rt(target, scale, nsig)\n  File \"/home/savchenk/integral_lvk/counterpart.py\", line 698, in get_count_limit_rt\n    self.hk[target][scale] = self.ias_data['summary']['ACS_rt'][('s_%.3lg'%_scale).replace(\".\",\"_\")]\nKeyError: 'ACS_rt'\n\n>>> KeyError('ACS_rt')\n\nin DataAnalysis node: [CountLimits.v2.2_span_300;NoneInTheInput]\nrequested by: +CountLimits.v2.2_span_300 output_required_by_parent +CountLimits.v2.2_span_300 direct\n"
     ]
    }
   ],
   "source": [
    "class CountLimits(counterpart.CountLimits):\n",
    "    cached=False\n",
    "    \n",
    "    \n",
    "cl = CountLimits().get()"
   ]
  },
  {
   "cell_type": "code",
   "execution_count": 11,
   "metadata": {},
   "outputs": [
    {
     "ename": "NameError",
     "evalue": "name 'cl' is not defined",
     "output_type": "error",
     "traceback": [
      "\u001b[0;31m---------------------------------------------------------------------------\u001b[0m",
      "\u001b[0;31mNameError\u001b[0m                                 Traceback (most recent call last)",
      "\u001b[1;32m/home/savchenk/integral_lvk/gcn.ipynb Cell 10\u001b[0m in \u001b[0;36m<cell line: 1>\u001b[0;34m()\u001b[0m\n\u001b[0;32m----> <a href='vscode-notebook-cell:/home/savchenk/integral_lvk/gcn.ipynb#X61sZmlsZQ%3D%3D?line=0'>1</a>\u001b[0m cl\u001b[39m.\u001b[39minput_datasource\u001b[39m.\u001b[39mdatasource\n",
      "\u001b[0;31mNameError\u001b[0m: name 'cl' is not defined"
     ]
    }
   ],
   "source": [
    "cl.input_datasource.datasource"
   ]
  },
  {
   "cell_type": "code",
   "execution_count": 10,
   "metadata": {},
   "outputs": [
    {
     "ename": "NameError",
     "evalue": "name 'cl' is not defined",
     "output_type": "error",
     "traceback": [
      "\u001b[0;31m---------------------------------------------------------------------------\u001b[0m",
      "\u001b[0;31mNameError\u001b[0m                                 Traceback (most recent call last)",
      "\u001b[1;32m/home/savchenk/integral_lvk/gcn.ipynb Cell 11\u001b[0m in \u001b[0;36m<cell line: 1>\u001b[0;34m()\u001b[0m\n\u001b[0;32m----> <a href='vscode-notebook-cell:/home/savchenk/integral_lvk/gcn.ipynb#X60sZmlsZQ%3D%3D?line=0'>1</a>\u001b[0m cl\u001b[39m.\u001b[39mget_count_limit(\u001b[39m'\u001b[39m\u001b[39mACS\u001b[39m\u001b[39m'\u001b[39m, \u001b[39m1\u001b[39m)\n",
      "\u001b[0;31mNameError\u001b[0m: name 'cl' is not defined"
     ]
    }
   ],
   "source": [
    "cl.get_count_limit('ACS', 1)"
   ]
  },
  {
   "cell_type": "code",
   "execution_count": null,
   "metadata": {
    "scrolled": true
   },
   "outputs": [],
   "source": [
    "\n",
    "class Sensitivities(counterpart.Sensitivities):\n",
    "    minsolarangle=40\n",
    "    datafile_restore_mode='url_in_object'\n",
    "    cached=False\n",
    "    \n",
    "    \n",
    "sens=Sensitivities().get()\n",
    "\n",
    "#if len(sens.get_exceptions()) == 0:\n",
    "#    sens.plot_fancy()\n"
   ]
  },
  {
   "cell_type": "code",
   "execution_count": null,
   "metadata": {},
   "outputs": [],
   "source": [
    "import integralvisibility\n",
    "sun=integralvisibility.ephem.Sun(\"2018-09-11\")\n",
    "#sun=ephem.Sun(ijd-ijd02-ephem.Date(\"2002/01/01\"))\n",
    "sun_coord=SkyCoord(sun.ra,sun.dec,unit=u.rad,representation=\"spherical\")\n",
    "sun_coord.separation(SkyCoord(144.58,-2.13,unit='deg'))"
   ]
  },
  {
   "cell_type": "code",
   "execution_count": null,
   "metadata": {},
   "outputs": [],
   "source": [
    "if len(sens.get_exceptions()) == 0:\n",
    "    bs=counterpart.BackgroundStabilityAssertion()\n",
    "    cl=bs.input_countlimits().get()\n",
    "\n",
    "    for k,v in cl.hk.items():\n",
    "        for kk,vv in v.items():\n",
    "            print(k,kk,vv['excvar'])"
   ]
  },
  {
   "cell_type": "code",
   "execution_count": null,
   "metadata": {},
   "outputs": [],
   "source": [
    "import datetime\n",
    "now_utc=datetime.datetime.strftime(datetime.datetime.now(),\"%Y-%m-%dT%H:%M:%S\")\n",
    "now_ijd=float(ic.converttime(\"UTC\",now_utc,\"IJD\"))"
   ]
  },
  {
   "cell_type": "code",
   "execution_count": null,
   "metadata": {},
   "outputs": [],
   "source": [
    "\n",
    "ic_ijd=float(ic.converttime(\"UTC\", ICE.event_time['utc'], \"IJD\"))\n"
   ]
  },
  {
   "cell_type": "code",
   "execution_count": null,
   "metadata": {},
   "outputs": [],
   "source": [
    "da.byname('Sensitivities').get()._da_locally_complete"
   ]
  },
  {
   "cell_type": "code",
   "execution_count": null,
   "metadata": {},
   "outputs": [],
   "source": [
    "#da.reset()\n",
    "\n",
    "class FinalComment(counterpart.DataAnalysis):\n",
    "    input_ic=ICE\n",
    "\n",
    "    read_caches=[]\n",
    "    cached=True\n",
    "\n",
    "    def main(self):\n",
    "        self.comment=\"\"\n",
    "        \n",
    "FinalComment().get()"
   ]
  },
  {
   "cell_type": "code",
   "execution_count": null,
   "metadata": {},
   "outputs": [],
   "source": [
    "data={}\n",
    "\n",
    "data['datesource'] = datasource\n",
    "\n",
    "\n",
    "define_event()().get()\n",
    "\n",
    "#for obj in [ic, counterpart.Sensitivities, counterpart.ScSystem, counterpart.OperationsReport, counterpart.CountLimits, counterpart.BackgroundStabilityAssertion, counterpart.OrientationComment, counterpart.FinalComment]:\n",
    "for cls in [counterpart.Event, counterpart.FinalComment, counterpart.Sensitivities, counterpart.ScSystem, counterpart.OperationsReport, counterpart.CountLimits, counterpart.BackgroundStabilityAssertion, counterpart.OrientationComment, counterpart.FinalComment, counterpart.DetectionSummary]:\n",
    "    obj = da.byname(cls().get_factory_name()).get()\n",
    "        \n",
    "    obj.datafile_restore_mode = 'url_in_object'\n",
    "    data[obj.__class__.__name__]=obj.export_data(include_class_attributes=True)"
   ]
  },
  {
   "cell_type": "code",
   "execution_count": null,
   "metadata": {},
   "outputs": [],
   "source": [
    "data['DetectionSummary'].get('txt'),data['DetectionSummary'].get('detection_decision',None)"
   ]
  },
  {
   "cell_type": "code",
   "execution_count": null,
   "metadata": {},
   "outputs": [],
   "source": [
    "data['DetectionSummary']"
   ]
  },
  {
   "cell_type": "code",
   "execution_count": null,
   "metadata": {},
   "outputs": [],
   "source": [
    "#data['integral']\n",
    "revnum = ic.converttime(\"UTC\", t0_utc, \"REVNUM\")\n",
    "\n",
    "\n",
    "if False:\n",
    "    \n",
    "\n",
    "    data['integral']=dict(orbit_before=revnum,\n",
    "                          orbit_after=\"%.4i\"%(int(revnum)+1),\n",
    "                          first_data_utc=\"\"\n",
    "                         )\n",
    "\n",
    "    print(\"data\",data['integral'])\n",
    "\n",
    "    try:\n",
    "        first_scw_utc = ic.converttime(\"SCWID\", data['integral']['orbit_after']+\"00010010\", \"UTC\").split()[0]\n",
    "\n",
    "        import time\n",
    "\n",
    "        if False:\n",
    "            while True:\n",
    "                try:\n",
    "                    firstacs = ic.get_hk(utc=first_scw_utc,target=\"ACS\",span=5000)\n",
    "                    break\n",
    "                except counterpart.ic.ServiceException as e:\n",
    "                    print(e)\n",
    "                    time.sleep(1)\n",
    "\n",
    "\n",
    "        print(first_scw_utc)\n",
    "        first_scw_ijd = ic.converttime(\"UTC\",first_scw_utc,\"IJD\")\n",
    "\n",
    "        import isdcclient\n",
    "        isc = isdcclient.ISDCClient()\n",
    "\n",
    "        acs = isc.genlc(\"ACS\",first_scw_utc,\"5000\",format='numpy')\n",
    "        first_data_ijd = acs[:,0][acs[:,2]>0][0]\n",
    "        first_data_utc = ic.converttime(\"IJD\",first_data_ijd,\"UTC\")\n",
    "\n",
    "        before_rev_ijd = float(ic.converttime(\"REVNUM\",revnum,\"IJD\").split()[2])\n",
    "\n",
    "        acs = isc.genlc(\"ACS\",\"%.20lg\"%(before_rev_ijd-5./24.),\"%.20lg\"%(4.5*3600),format='numpy')\n",
    "\n",
    "\n",
    "\n",
    "        last_data_ijd = acs[:,0][acs[:,2]>0][-1]\n",
    "        last_data_utc = ic.converttime(\"IJD\",last_data_ijd,\"UTC\")\n",
    "\n",
    "        print(\"last data\",last_data_utc)\n",
    "\n",
    "        last_data_ijd,last_data_utc\n",
    "\n",
    "\n",
    "        data['integral']['last_data_utc'] = last_data_utc\n",
    "        data['integral']['last_data_ijd'] = last_data_ijd\n",
    "\n",
    "        data['integral']['first_data_utc'] = first_data_utc\n",
    "        data['integral']['first_data_ijd'] = first_data_ijd\n",
    "    except Exception as e:\n",
    "        print(\"not yet\",e)"
   ]
  },
  {
   "cell_type": "code",
   "execution_count": null,
   "metadata": {},
   "outputs": [],
   "source": [
    "import workflows\n",
    "d=workflows.evaluate('odahub', 'integral-observation-summary', 'status', when_utc=t0_utc)\n",
    "\n",
    "if 'expected_data_status' not in d['data']['prophecy_summary']:\n",
    "    data['integral']=dict(orbit_before=revnum,\n",
    "                              orbit_after=\"%.4i\"%(int(revnum)+1),\n",
    "                              last_data_utc=\"UNKNOWN\",\n",
    "                              first_data_utc=\"UNKNOWN\",\n",
    "                             )\n",
    "elif d['data']['prophecy_summary']['expected_data_status'] == \"OFFLINE\" or \\\n",
    "    d['data']['rtstatus'] == \"OFFLINE\":\n",
    "\n",
    "    data['integral']=dict(orbit_before=revnum,\n",
    "                              orbit_after=\"%.4i\"%(int(revnum)+1),\n",
    "                              last_data_utc=str(d['data']['prophecy_summary']['last_data_utc']),\n",
    "                              first_data_utc=str(d['data']['prophecy_summary']['next_data_utc']),\n",
    "                             )\n",
    "\n",
    "    try:\n",
    "        data['integral']['first_data_ijd']=ic.converttime(\"UTC\", d['data']['prophecy_summary']['next_data_utc'], 'IJD')\n",
    "        data['integral']['last_data_ijd']=ic.converttime(\"UTC\", d['data']['prophecy_summary']['last_data_utc'], 'IJD')\n",
    "    except Exception as e:\n",
    "        print(\"unable to get prophecy ijd!\", d['data']['prophecy_summary']['next_data_utc'], d['data']['prophecy_summary']['last_data_utc'])\n",
    "        data['integral']['first_data_ijd'] = \"UNKNOWN\"\n",
    "        data['integral']['last_data_ijd'] = \"UNKNOWN\"\n",
    "    "
   ]
  },
  {
   "cell_type": "code",
   "execution_count": null,
   "metadata": {},
   "outputs": [],
   "source": [
    "#da.byname(\"OrientationComment\").get().export_data()\n",
    "\n",
    "da.byname('ScSystem')._da_locally_complete"
   ]
  },
  {
   "cell_type": "code",
   "execution_count": null,
   "metadata": {},
   "outputs": [],
   "source": [
    "ev=da.byname('Event')\n",
    "final_peak = ev.peak()\n",
    "print(final_peak,ev.loc_parameters)"
   ]
  },
  {
   "cell_type": "code",
   "execution_count": null,
   "metadata": {},
   "outputs": [],
   "source": [
    "import requests\n",
    "data['shift'] = dict(fullnames = requests.get(\"http://cdcihn/transients/dashboard/current-shift\").text)"
   ]
  },
  {
   "cell_type": "code",
   "execution_count": null,
   "metadata": {},
   "outputs": [],
   "source": [
    "data['event_class'] = 'LIGO/Virgo'\n",
    "data['datasource'] = datasource"
   ]
  },
  {
   "cell_type": "code",
   "execution_count": null,
   "metadata": {},
   "outputs": [],
   "source": [
    "try:\n",
    "    data['gcn_repo_version'] = open(\"/repo-version\").read().strip()\n",
    "except:\n",
    "    data['gcn_repo_version'] = \"local\""
   ]
  },
  {
   "cell_type": "code",
   "execution_count": null,
   "metadata": {},
   "outputs": [],
   "source": [
    "from astropy import units as u\n",
    "from astropy import constants as const\n"
   ]
  },
  {
   "cell_type": "code",
   "execution_count": null,
   "metadata": {},
   "outputs": [],
   "source": [
    "if not hasattr(ev, 'map_header'):\n",
    "    data['distance'] = None\n",
    "else:\n",
    "    distance_mean = ev.map_header.get('DISTMEAN'),ev.map_header.get('DISTSTD')\n",
    "\n",
    "    if ev.map_header.get('DISTMEAN') is None or ev.map_header.get('DISTSTD') is None or data['Sensitivities'].get('summary') is None:\n",
    "        data['distance'] = None\n",
    "    else:\n",
    "        data['distance']=dict(\n",
    "            mean_Mpc = ev.map_header.get('DISTMEAN'),\n",
    "            std_Mpc = ev.map_header.get('DISTSTD'),     \n",
    "        )\n",
    "\n",
    "        data['at_distance']=dict(\n",
    "            at_mean=dict(),\n",
    "        )\n",
    "\n",
    "        for k,d in data['Sensitivities']['summary'].items():\n",
    "            data['at_distance']['at_mean'][k]=dict()\n",
    "            for r,rd in d.items():            \n",
    "                data['at_distance']['at_mean'][k][r]=rd*float(data['distance']['mean_Mpc']*u.Mpc/u.cm)**2*4*np.pi\n",
    "                print(k,r,rd,data['at_distance']['at_mean'][k][r])\n",
    "\n",
    "data['distance']"
   ]
  },
  {
   "cell_type": "code",
   "execution_count": null,
   "metadata": {},
   "outputs": [],
   "source": [
    "sens_map_soft_png=getattr(sens,'sens_map_soft_png','none')\n",
    "sens_map_hard_png=getattr(sens,'sens_map_hard_png','none')"
   ]
  },
  {
   "cell_type": "code",
   "execution_count": null,
   "metadata": {},
   "outputs": [],
   "source": [
    "try:\n",
    "    import odahubz\n",
    "    data['links'] = [odahubz.publish(\n",
    "        title=\"INTEGRAL observation of \"+name,\n",
    "        fn_png=sens_map_hard_png,\n",
    "        provenance=\"gcn pipeline\",\n",
    "        keywords=[\"INTEGRAL\", name, \"GCN\", \"sensitiviy\", \"transient\"],\n",
    "    )]\n",
    "except Exception as e:\n",
    "    print(\"failed to publish\", e)\n",
    "    data['links'] = []"
   ]
  },
  {
   "cell_type": "code",
   "execution_count": null,
   "metadata": {},
   "outputs": [],
   "source": [
    "import ddpaper\n",
    "\n",
    "from ddpaper.render import  render_draft\n",
    "from ddpaper.render import get_latex_jinja_env\n",
    "\n",
    "\n",
    "if len(sens.get_exceptions()) == 0:\n",
    "\n",
    "    gcn_text = render_draft(get_latex_jinja_env(),\n",
    "                 open(\"templates/gcn/upper_limit.txt\").read(),\n",
    "                 data\n",
    "                )\n",
    "else:\n",
    "    print(\"found exceptions:\",sens.get_exceptions())\n",
    "    gcn_text = render_draft(get_latex_jinja_env(),\n",
    "                 open(\"templates/gcn/inactive.txt\").read(),\n",
    "                 data\n",
    "                )\n",
    "\n",
    "print(gcn_text)"
   ]
  },
  {
   "cell_type": "code",
   "execution_count": null,
   "metadata": {},
   "outputs": [],
   "source": [
    "import textwrap"
   ]
  },
  {
   "cell_type": "code",
   "execution_count": null,
   "metadata": {},
   "outputs": [],
   "source": [
    "gcn_wrapped_text = \"\"\n",
    "\n",
    "long_sep = \"%c%c\"%(10,10)\n",
    "\n",
    "for block in gcn_text.split(long_sep):    \n",
    "    if '%%%%%' in block:\n",
    "        continue\n",
    "    \n",
    "    if 'NOWRAP' in block:\n",
    "        text = block.replace(\"NOWRAP \",\"\")\n",
    "    else:\n",
    "        text = \"\\n\".join(textwrap.wrap(\n",
    "            textwrap.dedent(block).strip(),\n",
    "            70,initial_indent=''))\n",
    "        \n",
    "    gcn_wrapped_text += text+long_sep\n",
    "\n",
    "print(gcn_wrapped_text,\"\\n\")"
   ]
  },
  {
   "cell_type": "code",
   "execution_count": null,
   "metadata": {},
   "outputs": [],
   "source": [
    "open(\"gcn.txt\",\"w\").write(gcn_text)\n",
    "open(\"gcn_wrapped.txt\",\"w\").write(gcn_wrapped_text)"
   ]
  },
  {
   "cell_type": "code",
   "execution_count": null,
   "metadata": {},
   "outputs": [],
   "source": [
    "# fov info\n",
    "# ibas triggers\n",
    "# title to what is used\n",
    "# say what is used\n",
    "# list counterparts\n",
    "# luminosity\n",
    "# strss all-sky"
   ]
  },
  {
   "cell_type": "code",
   "execution_count": null,
   "metadata": {},
   "outputs": [],
   "source": [
    "gcn_html = gcn_wrapped_text.replace(\"\\n\",\"<br>\")"
   ]
  },
  {
   "cell_type": "code",
   "execution_count": null,
   "metadata": {},
   "outputs": [],
   "source": [
    "#! < gcn.txt awk '{if (/^NOWRAP/) {gsub(\"^NOWRAP \",\"\"); print} else {print \"WRAP \"$$0}}' | fmt --prefix WRAP | awk '{gsub(\"^WRAP ?\",\"\")}1' > gcn_wrapped.txt\n",
    "#fmt -w 70  gcn.txt > gcn_wrapped.txt"
   ]
  },
  {
   "cell_type": "code",
   "execution_count": null,
   "metadata": {},
   "outputs": [],
   "source": []
  },
  {
   "cell_type": "code",
   "execution_count": null,
   "metadata": {},
   "outputs": [],
   "source": []
  },
  {
   "cell_type": "code",
   "execution_count": null,
   "metadata": {},
   "outputs": [],
   "source": [
    "try:\n",
    "    data['CountLimits']['rtdata']['acs_rt_lc_png_content']='contracted'\n",
    "    data['CountLimits']['rtdata']['acs_rt_det_lc_png_content']='contracted'\n",
    "except Exception as e:\n",
    "    print(e)\n",
    "\n",
    "import json\n",
    "    \n",
    "try:\n",
    "    json.dump(data, open(\"gcndata.json\",\"w\"))\n",
    "except Exception as e:\n",
    "    json.dump({}, open(\"gcndata.json\",\"w\"))"
   ]
  },
  {
   "cell_type": "code",
   "execution_count": null,
   "metadata": {
    "tags": [
     "outputs"
    ]
   },
   "outputs": [],
   "source": [
    "gcn_wrapped_txt=\"gcn_wrapped.txt\"\n",
    "gcn_txt=\"gcn.txt\"\n",
    "gcn_wrapped_text=gcn_wrapped_text\n",
    "gcn_text=gcn_text\n",
    "gcn_html=gcn_html\n",
    "sens_map_soft_png=sens_map_soft_png\n",
    "sens_map_hard_png=sens_map_hard_png\n",
    "gcndata_txt=\"gcndata.json\"\n",
    "final_peak=final_peak"
   ]
  }
 ],
 "metadata": {
  "celltoolbar": "Tags",
  "kernelspec": {
   "display_name": "base",
   "language": "python",
   "name": "python3"
  },
  "language_info": {
   "codemirror_mode": {
    "name": "ipython",
    "version": 3
   },
   "file_extension": ".py",
   "mimetype": "text/x-python",
   "name": "python",
   "nbconvert_exporter": "python",
   "pygments_lexer": "ipython3",
   "version": "3.9.16"
  },
  "vscode": {
   "interpreter": {
    "hash": "1892832a55cb9b21d693a1e0afb7563f6ad424a1b7b3da21728b3ea0874fe733"
   }
  }
 },
 "nbformat": 4,
 "nbformat_minor": 2
}
