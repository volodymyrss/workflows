{
 "cells": [
  {
   "cell_type": "code",
   "execution_count": 1,
   "metadata": {},
   "outputs": [
    {
     "name": "stdout",
     "output_type": "stream",
     "text": [
      "failed to get AUTH with env due to: 'K8S_SECRET_INTEGRAL_CLIENT_SECRET'\n",
      "got AUTH with homefile for integral-limited\n"
     ]
    }
   ],
   "source": [
    "from matplotlib import pylab\n",
    "from astropy.coordinates import SkyCoord\n",
    "import integralclient as ic\n",
    "\n",
    "import time\n",
    "import numpy as np\n",
    "\n",
    "from astropy.table import Table, vstack\n",
    "from astropy.io import fits\n",
    "import glob\n"
   ]
  },
  {
   "cell_type": "code",
   "execution_count": 2,
   "metadata": {
    "tags": [
     "parameters"
    ]
   },
   "outputs": [],
   "source": [
    "RA=40.669879\n",
    "Dec=-0.013289\n",
    "tstart_rel_mdays=10\n",
    "tstop_rel_days=10\n",
    "t0_utc=\"2023-05-18T12:59:08.000000\"\n",
    "cons=1\n",
    "nrt=1\n",
    "test=0"
   ]
  },
  {
   "cell_type": "code",
   "execution_count": 3,
   "metadata": {},
   "outputs": [],
   "source": [
    "if test:\n",
    "    from nb2workflow import nbadapter\n",
    "    \n",
    "    import datetime\n",
    "    \n",
    "    import sys\n",
    "    sys.stderr = sys.stdout\n",
    "    \n",
    "    def test_realtime():\n",
    "        nba =nbadapter.NotebookAdapter(\"iobserve.ipynb\")\n",
    "        \n",
    "        utc_now=datetime.datetime.utcnow()\n",
    "        utc_realtime = (utc_now-datetime.timedelta(seconds=1000)).strftime(\"%Y-%m-%dT%T\")\n",
    "\n",
    "        nba.execute(dict(\n",
    "            RA=40.669879,\n",
    "            Dec=-0.013289,\n",
    "            tstart_rel_mdays=0.1,\n",
    "            tstop_rel_days=0.1,\n",
    "            t0_utc=utc_realtime,\n",
    "            cons=1,\n",
    "            nrt=1,\n",
    "            test=0,\n",
    "        ),\n",
    "                    log_output=False,\n",
    "                    progress_bar=False)\n",
    "        output = nba.extract_output()\n",
    "\n",
    "        output['history_png_content']=\"\"\n",
    "        output['hist_png_content']=\"\"\n",
    "\n",
    "        print(output)\n",
    "\n",
    "        assert output['data_readiness'] == 'realtime'\n",
    "\n",
    "    \n",
    "    \n",
    "    def test_cons():\n",
    "        nba =nbadapter.NotebookAdapter(\"iobserve.ipynb\")\n",
    "\n",
    "        nba.execute(dict(\n",
    "            RA=40.669879,\n",
    "            Dec=-0.013289,\n",
    "            tstart_rel_mdays=10,\n",
    "            tstop_rel_days=10,\n",
    "            t0_utc=\"2017-12-01T02:38:00\",\n",
    "            cons=1,\n",
    "            nrt=1,\n",
    "            test=0,\n",
    "        ),\n",
    "                    log_output=False,\n",
    "                    progress_bar=False)\n",
    "        output = nba.extract_output()\n",
    "\n",
    "        output['history_png_content']=\"\"\n",
    "        output['hist_png_content']=\"\"\n",
    "\n",
    "        print(output)\n",
    "\n",
    "        assert output['data_readiness'] == 'CONS'\n",
    "\n",
    "    def test_nrt():\n",
    "        nba =nbadapter.NotebookAdapter(\"iobserve.ipynb\")\n",
    "        \n",
    "        utc_now=datetime.datetime.utcnow()\n",
    "        utc_realtime = (utc_now-datetime.timedelta(hours=10)).strftime(\"%Y-%m-%dT%T\")\n",
    "\n",
    "        nba.execute(dict(\n",
    "            RA=40.669879,\n",
    "            Dec=-0.013289,\n",
    "            tstart_rel_mdays=10,\n",
    "            tstop_rel_days=10,\n",
    "            t0_utc=utc_realtime,\n",
    "            cons=1,\n",
    "            nrt=1,\n",
    "            test=0,\n",
    "        ),\n",
    "                    log_output=False,\n",
    "                    progress_bar=False)\n",
    "        output = nba.extract_output()\n",
    "\n",
    "        output['history_png_content']=\"\"\n",
    "        output['hist_png_content']=\"\"\n",
    "\n",
    "        print(output)\n",
    "\n",
    "        assert output['data_readiness'] == 'NRT'\n",
    "\n",
    "        \n",
    "    test_cons()\n",
    "    test_nrt()\n",
    "    test_realtime()\n",
    "    \n",
    "    raise Exception('test complete successfully')\n",
    "    "
   ]
  },
  {
   "cell_type": "code",
   "execution_count": 4,
   "metadata": {},
   "outputs": [],
   "source": [
    "source_coord = SkyCoord(RA, Dec, unit = \"deg\")"
   ]
  },
  {
   "cell_type": "code",
   "execution_count": 5,
   "metadata": {},
   "outputs": [
    {
     "name": "stdout",
     "output_type": "stream",
     "text": [
      "picking this arc root prefix: None\n",
      "found prefix /mnt/sshfs/isdc/\n"
     ]
    }
   ],
   "source": [
    "import os\n",
    "\n",
    "arc_root_prefix = None\n",
    "arc_root_prefixes = [\"/mnt/sshfs/isdc/\",\"/\"]\n",
    "\n",
    "for _ in arc_root_prefixes:\n",
    "    if os.path.exists(_ + \"/isdc/arc/rev_3/idx/scw/GNRL-SCWG-GRP-IDX.fits\"):\n",
    "        print(\"picking this arc root prefix:\",arc_root_prefix)\n",
    "        arc_root_prefix = _\n",
    "        break\n",
    "    \n",
    "if arc_root_prefix is None:\n",
    "    raise Exception(\"no archive found!\")\n",
    "\n",
    "print(\"found prefix\", arc_root_prefix)"
   ]
  },
  {
   "cell_type": "code",
   "execution_count": 6,
   "metadata": {},
   "outputs": [
    {
     "name": "stdout",
     "output_type": "stream",
     "text": [
      "nrt: /mnt/sshfs/isdc//isdc/pvphase/nrt/ops/idx/scw/GNRL-SCWG-GRP-IDX_*\n",
      "nrt: ['/mnt/sshfs/isdc//isdc/pvphase/nrt/ops/idx/scw/GNRL-SCWG-GRP-IDX_20230518103258.fits', '/mnt/sshfs/isdc//isdc/pvphase/nrt/ops/idx/scw/GNRL-SCWG-GRP-IDX_20230517065617.fits', '/mnt/sshfs/isdc//isdc/pvphase/nrt/ops/idx/scw/GNRL-SCWG-GRP-IDX_20230518103646.fits', '/mnt/sshfs/isdc//isdc/pvphase/nrt/ops/idx/scw/GNRL-SCWG-GRP-IDX_20230517151646.fits', '/mnt/sshfs/isdc//isdc/pvphase/nrt/ops/idx/scw/GNRL-SCWG-GRP-IDX_20230518113420.fits', '/mnt/sshfs/isdc//isdc/pvphase/nrt/ops/idx/scw/GNRL-SCWG-GRP-IDX_20230517151724.fits', '/mnt/sshfs/isdc//isdc/pvphase/nrt/ops/idx/scw/GNRL-SCWG-GRP-IDX_20230518114230.fits', '/mnt/sshfs/isdc//isdc/pvphase/nrt/ops/idx/scw/GNRL-SCWG-GRP-IDX_20230517163710.fits', '/mnt/sshfs/isdc//isdc/pvphase/nrt/ops/idx/scw/GNRL-SCWG-GRP-IDX_20230518123903.fits', '/mnt/sshfs/isdc//isdc/pvphase/nrt/ops/idx/scw/GNRL-SCWG-GRP-IDX_20230517174343.fits', '/mnt/sshfs/isdc//isdc/pvphase/nrt/ops/idx/scw/GNRL-SCWG-GRP-IDX_20230518124145.fits', '/mnt/sshfs/isdc//isdc/pvphase/nrt/ops/idx/scw/GNRL-SCWG-GRP-IDX_20230517175647.fits', '/mnt/sshfs/isdc//isdc/pvphase/nrt/ops/idx/scw/GNRL-SCWG-GRP-IDX_20230518133634.fits', '/mnt/sshfs/isdc//isdc/pvphase/nrt/ops/idx/scw/GNRL-SCWG-GRP-IDX_20230517181811.fits', '/mnt/sshfs/isdc//isdc/pvphase/nrt/ops/idx/scw/GNRL-SCWG-GRP-IDX_20230518134015.fits', '/mnt/sshfs/isdc//isdc/pvphase/nrt/ops/idx/scw/GNRL-SCWG-GRP-IDX_20230517182113.fits', '/mnt/sshfs/isdc//isdc/pvphase/nrt/ops/idx/scw/GNRL-SCWG-GRP-IDX_20230518143207.fits', '/mnt/sshfs/isdc//isdc/pvphase/nrt/ops/idx/scw/GNRL-SCWG-GRP-IDX_20230517192215.fits', '/mnt/sshfs/isdc//isdc/pvphase/nrt/ops/idx/scw/GNRL-SCWG-GRP-IDX_20230518143548.fits', '/mnt/sshfs/isdc//isdc/pvphase/nrt/ops/idx/scw/GNRL-SCWG-GRP-IDX_20230517192502.fits', '/mnt/sshfs/isdc//isdc/pvphase/nrt/ops/idx/scw/GNRL-SCWG-GRP-IDX_20230518152337.fits', '/mnt/sshfs/isdc//isdc/pvphase/nrt/ops/idx/scw/GNRL-SCWG-GRP-IDX_20230517204250.fits', '/mnt/sshfs/isdc//isdc/pvphase/nrt/ops/idx/scw/GNRL-SCWG-GRP-IDX_20230518152722.fits', '/mnt/sshfs/isdc//isdc/pvphase/nrt/ops/idx/scw/GNRL-SCWG-GRP-IDX_20230517204537.fits', '/mnt/sshfs/isdc//isdc/pvphase/nrt/ops/idx/scw/GNRL-SCWG-GRP-IDX_20230518164136.fits', '/mnt/sshfs/isdc//isdc/pvphase/nrt/ops/idx/scw/GNRL-SCWG-GRP-IDX_20230517212052.fits', '/mnt/sshfs/isdc//isdc/pvphase/nrt/ops/idx/scw/GNRL-SCWG-GRP-IDX_20230518164322.fits', '/mnt/sshfs/isdc//isdc/pvphase/nrt/ops/idx/scw/GNRL-SCWG-GRP-IDX_20230517212443.fits', '/mnt/sshfs/isdc//isdc/pvphase/nrt/ops/idx/scw/GNRL-SCWG-GRP-IDX_20230518171253.fits', '/mnt/sshfs/isdc//isdc/pvphase/nrt/ops/idx/scw/GNRL-SCWG-GRP-IDX_20230517221552.fits', '/mnt/sshfs/isdc//isdc/pvphase/nrt/ops/idx/scw/GNRL-SCWG-GRP-IDX_20230518171542.fits', '/mnt/sshfs/isdc//isdc/pvphase/nrt/ops/idx/scw/GNRL-SCWG-GRP-IDX_20230517221821.fits', '/mnt/sshfs/isdc//isdc/pvphase/nrt/ops/idx/scw/GNRL-SCWG-GRP-IDX_20230518184155.fits', '/mnt/sshfs/isdc//isdc/pvphase/nrt/ops/idx/scw/GNRL-SCWG-GRP-IDX_20230517231653.fits', '/mnt/sshfs/isdc//isdc/pvphase/nrt/ops/idx/scw/GNRL-SCWG-GRP-IDX_20230518185239.fits', '/mnt/sshfs/isdc//isdc/pvphase/nrt/ops/idx/scw/GNRL-SCWG-GRP-IDX_20230517232048.fits', '/mnt/sshfs/isdc//isdc/pvphase/nrt/ops/idx/scw/GNRL-SCWG-GRP-IDX_20230518190602.fits', '/mnt/sshfs/isdc//isdc/pvphase/nrt/ops/idx/scw/GNRL-SCWG-GRP-IDX_20230518002504.fits', '/mnt/sshfs/isdc//isdc/pvphase/nrt/ops/idx/scw/GNRL-SCWG-GRP-IDX_20230518195231.fits', '/mnt/sshfs/isdc//isdc/pvphase/nrt/ops/idx/scw/GNRL-SCWG-GRP-IDX_20230518002746.fits', '/mnt/sshfs/isdc//isdc/pvphase/nrt/ops/idx/scw/GNRL-SCWG-GRP-IDX_20230518195622.fits', '/mnt/sshfs/isdc//isdc/pvphase/nrt/ops/idx/scw/GNRL-SCWG-GRP-IDX_20230518012816.fits', '/mnt/sshfs/isdc//isdc/pvphase/nrt/ops/idx/scw/GNRL-SCWG-GRP-IDX_20230518205654.fits', '/mnt/sshfs/isdc//isdc/pvphase/nrt/ops/idx/scw/GNRL-SCWG-GRP-IDX_20230518013058.fits', '/mnt/sshfs/isdc//isdc/pvphase/nrt/ops/idx/scw/GNRL-SCWG-GRP-IDX_20230518205850.fits', '/mnt/sshfs/isdc//isdc/pvphase/nrt/ops/idx/scw/GNRL-SCWG-GRP-IDX_20230518022250.fits', '/mnt/sshfs/isdc//isdc/pvphase/nrt/ops/idx/scw/GNRL-SCWG-GRP-IDX_20230518214840.fits', '/mnt/sshfs/isdc//isdc/pvphase/nrt/ops/idx/scw/GNRL-SCWG-GRP-IDX_20230518022530.fits', '/mnt/sshfs/isdc//isdc/pvphase/nrt/ops/idx/scw/GNRL-SCWG-GRP-IDX_20230518215320.fits', '/mnt/sshfs/isdc//isdc/pvphase/nrt/ops/idx/scw/GNRL-SCWG-GRP-IDX_20230518032841.fits', '/mnt/sshfs/isdc//isdc/pvphase/nrt/ops/idx/scw/GNRL-SCWG-GRP-IDX_20230518224358.fits', '/mnt/sshfs/isdc//isdc/pvphase/nrt/ops/idx/scw/GNRL-SCWG-GRP-IDX_20230518033224.fits', '/mnt/sshfs/isdc//isdc/pvphase/nrt/ops/idx/scw/GNRL-SCWG-GRP-IDX_20230518224845.fits', '/mnt/sshfs/isdc//isdc/pvphase/nrt/ops/idx/scw/GNRL-SCWG-GRP-IDX_20230518044605.fits', '/mnt/sshfs/isdc//isdc/pvphase/nrt/ops/idx/scw/GNRL-SCWG-GRP-IDX_20230518233746.fits', '/mnt/sshfs/isdc//isdc/pvphase/nrt/ops/idx/scw/GNRL-SCWG-GRP-IDX_20230518044746.fits', '/mnt/sshfs/isdc//isdc/pvphase/nrt/ops/idx/scw/GNRL-SCWG-GRP-IDX_20230518233917.fits', '/mnt/sshfs/isdc//isdc/pvphase/nrt/ops/idx/scw/GNRL-SCWG-GRP-IDX_20230518052857.fits', '/mnt/sshfs/isdc//isdc/pvphase/nrt/ops/idx/scw/GNRL-SCWG-GRP-IDX_20230519002058.fits', '/mnt/sshfs/isdc//isdc/pvphase/nrt/ops/idx/scw/GNRL-SCWG-GRP-IDX_20230518053228.fits', '/mnt/sshfs/isdc//isdc/pvphase/nrt/ops/idx/scw/GNRL-SCWG-GRP-IDX_20230519010001.fits', '/mnt/sshfs/isdc//isdc/pvphase/nrt/ops/idx/scw/GNRL-SCWG-GRP-IDX_20230518063330.fits', '/mnt/sshfs/isdc//isdc/pvphase/nrt/ops/idx/scw/GNRL-SCWG-GRP-IDX_20230519010547.fits', '/mnt/sshfs/isdc//isdc/pvphase/nrt/ops/idx/scw/GNRL-SCWG-GRP-IDX_20230518063607.fits', '/mnt/sshfs/isdc//isdc/pvphase/nrt/ops/idx/scw/GNRL-SCWG-GRP-IDX_20230519020452.fits', '/mnt/sshfs/isdc//isdc/pvphase/nrt/ops/idx/scw/GNRL-SCWG-GRP-IDX_20230518073009.fits', '/mnt/sshfs/isdc//isdc/pvphase/nrt/ops/idx/scw/GNRL-SCWG-GRP-IDX_20230519020749.fits', '/mnt/sshfs/isdc//isdc/pvphase/nrt/ops/idx/scw/GNRL-SCWG-GRP-IDX_20230518073250.fits', '/mnt/sshfs/isdc//isdc/pvphase/nrt/ops/idx/scw/GNRL-SCWG-GRP-IDX_20230519025649.fits', '/mnt/sshfs/isdc//isdc/pvphase/nrt/ops/idx/scw/GNRL-SCWG-GRP-IDX_20230518084425.fits', '/mnt/sshfs/isdc//isdc/pvphase/nrt/ops/idx/scw/GNRL-SCWG-GRP-IDX_20230519030034.fits', '/mnt/sshfs/isdc//isdc/pvphase/nrt/ops/idx/scw/GNRL-SCWG-GRP-IDX_20230518084558.fits', '/mnt/sshfs/isdc//isdc/pvphase/nrt/ops/idx/scw/GNRL-SCWG-GRP-IDX_20230519035214.fits', '/mnt/sshfs/isdc//isdc/pvphase/nrt/ops/idx/scw/GNRL-SCWG-GRP-IDX_20230518093845.fits', '/mnt/sshfs/isdc//isdc/pvphase/nrt/ops/idx/scw/GNRL-SCWG-GRP-IDX_20230519035512.fits', '/mnt/sshfs/isdc//isdc/pvphase/nrt/ops/idx/scw/GNRL-SCWG-GRP-IDX_20230518094126.fits', '/mnt/sshfs/isdc//isdc/pvphase/nrt/ops/idx/scw/GNRL-SCWG-GRP-IDX_20230519045142.fits', '/mnt/sshfs/isdc//isdc/pvphase/nrt/ops/idx/scw/GNRL-SCWG-GRP-IDX_20230519051740.fits', '/mnt/sshfs/isdc//isdc/pvphase/nrt/ops/idx/scw/GNRL-SCWG-GRP-IDX_20230519052208.fits', '/mnt/sshfs/isdc//isdc/pvphase/nrt/ops/idx/scw/GNRL-SCWG-GRP-IDX_20230519062154.fits', '/mnt/sshfs/isdc//isdc/pvphase/nrt/ops/idx/scw/GNRL-SCWG-GRP-IDX_20230519062425.fits', '/mnt/sshfs/isdc//isdc/pvphase/nrt/ops/idx/scw/GNRL-SCWG-GRP-IDX_20230519071411.fits', '/mnt/sshfs/isdc//isdc/pvphase/nrt/ops/idx/scw/GNRL-SCWG-GRP-IDX_20230519071547.fits', '/mnt/sshfs/isdc//isdc/pvphase/nrt/ops/idx/scw/GNRL-SCWG-GRP-IDX_20230519073519.fits', '/mnt/sshfs/isdc//isdc/pvphase/nrt/ops/idx/scw/GNRL-SCWG-GRP-IDX_20230519073854.fits', '/mnt/sshfs/isdc//isdc/pvphase/nrt/ops/idx/scw/GNRL-SCWG-GRP-IDX_20230519083626.fits', '/mnt/sshfs/isdc//isdc/pvphase/nrt/ops/idx/scw/GNRL-SCWG-GRP-IDX_20230519084016.fits', '/mnt/sshfs/isdc//isdc/pvphase/nrt/ops/idx/scw/GNRL-SCWG-GRP-IDX_20230519092650.fits', '/mnt/sshfs/isdc//isdc/pvphase/nrt/ops/idx/scw/GNRL-SCWG-GRP-IDX_20230519100204.fits', '/mnt/sshfs/isdc//isdc/pvphase/nrt/ops/idx/scw/GNRL-SCWG-GRP-IDX_20230519102853.fits', '/mnt/sshfs/isdc//isdc/pvphase/nrt/ops/idx/scw/GNRL-SCWG-GRP-IDX_20230519103653.fits', '/mnt/sshfs/isdc//isdc/pvphase/nrt/ops/idx/scw/GNRL-SCWG-GRP-IDX_20230519104304.fits', '/mnt/sshfs/isdc//isdc/pvphase/nrt/ops/idx/scw/GNRL-SCWG-GRP-IDX_20230519104546.fits', '/mnt/sshfs/isdc//isdc/pvphase/nrt/ops/idx/scw/GNRL-SCWG-GRP-IDX_20230519111158.fits', '/mnt/sshfs/isdc//isdc/pvphase/nrt/ops/idx/scw/GNRL-SCWG-GRP-IDX_20230519111435.fits', '/mnt/sshfs/isdc//isdc/pvphase/nrt/ops/idx/scw/GNRL-SCWG-GRP-IDX_20230519112932.fits', '/mnt/sshfs/isdc//isdc/pvphase/nrt/ops/idx/scw/GNRL-SCWG-GRP-IDX_20230519113202.fits', '/mnt/sshfs/isdc//isdc/pvphase/nrt/ops/idx/scw/GNRL-SCWG-GRP-IDX_20230519121321.fits', '/mnt/sshfs/isdc//isdc/pvphase/nrt/ops/idx/scw/GNRL-SCWG-GRP-IDX_20230519121609.fits', '/mnt/sshfs/isdc//isdc/pvphase/nrt/ops/idx/scw/GNRL-SCWG-GRP-IDX_20230519124046.fits', '/mnt/sshfs/isdc//isdc/pvphase/nrt/ops/idx/scw/GNRL-SCWG-GRP-IDX_20230519124543.fits', '/mnt/sshfs/isdc//isdc/pvphase/nrt/ops/idx/scw/GNRL-SCWG-GRP-IDX_20230519131442.fits', '/mnt/sshfs/isdc//isdc/pvphase/nrt/ops/idx/scw/GNRL-SCWG-GRP-IDX_20230519131724.fits', '/mnt/sshfs/isdc//isdc/pvphase/nrt/ops/idx/scw/GNRL-SCWG-GRP-IDX_20230519133939.fits', '/mnt/sshfs/isdc//isdc/pvphase/nrt/ops/idx/scw/GNRL-SCWG-GRP-IDX_20230519134432.fits', '/mnt/sshfs/isdc//isdc/pvphase/nrt/ops/idx/scw/GNRL-SCWG-GRP-IDX_20230519141819.fits', '/mnt/sshfs/isdc//isdc/pvphase/nrt/ops/idx/scw/GNRL-SCWG-GRP-IDX_20230519142102.fits', '/mnt/sshfs/isdc//isdc/pvphase/nrt/ops/idx/scw/GNRL-SCWG-GRP-IDX_20230519144529.fits', '/mnt/sshfs/isdc//isdc/pvphase/nrt/ops/idx/scw/GNRL-SCWG-GRP-IDX_20230519144813.fits', '/mnt/sshfs/isdc//isdc/pvphase/nrt/ops/idx/scw/GNRL-SCWG-GRP-IDX_20230519151945.fits', '/mnt/sshfs/isdc//isdc/pvphase/nrt/ops/idx/scw/GNRL-SCWG-GRP-IDX_20230519152323.fits', '/mnt/sshfs/isdc//isdc/pvphase/nrt/ops/idx/scw/GNRL-SCWG-GRP-IDX_20230517082341.fits', '/mnt/sshfs/isdc//isdc/pvphase/nrt/ops/idx/scw/GNRL-SCWG-GRP-IDX_20230517083026.fits']\n",
      "2\n"
     ]
    },
    {
     "name": "stderr",
     "output_type": "stream",
     "text": [
      "WARNING: MergeConflictWarning: Cannot merge meta key 'CREATOR' types <class 'str'> and <class 'str'>, choosing CREATOR='idx_add 3.3.1' [astropy.utils.metadata]\n",
      "2023-05-19 17:37:24 savchenk-NG-VN7-793G-79EG astropy[1779586] WARNING MergeConflictWarning: Cannot merge meta key 'CREATOR' types <class 'str'> and <class 'str'>, choosing CREATOR='idx_add 3.3.1'\n",
      "WARNING: MergeConflictWarning: Cannot merge meta key 'CONFIGUR' types <class 'str'> and <class 'str'>, choosing CONFIGUR='isdc-core-sw-0.3_2011-08-08T09:21:05' [astropy.utils.metadata]\n",
      "2023-05-19 17:37:24 savchenk-NG-VN7-793G-79EG astropy[1779586] WARNING MergeConflictWarning: Cannot merge meta key 'CONFIGUR' types <class 'str'> and <class 'str'>, choosing CONFIGUR='isdc-core-sw-0.3_2011-08-08T09:21:05'\n",
      "WARNING: MergeConflictWarning: Cannot merge meta key 'DATE' types <class 'str'> and <class 'str'>, choosing DATE='2014-05-19T11:53:47' [astropy.utils.metadata]\n",
      "2023-05-19 17:37:24 savchenk-NG-VN7-793G-79EG astropy[1779586] WARNING MergeConflictWarning: Cannot merge meta key 'DATE' types <class 'str'> and <class 'str'>, choosing DATE='2014-05-19T11:53:47'\n",
      "WARNING: MergeConflictWarning: Cannot merge meta key 'STAMP' types <class 'str'> and <class 'str'>, choosing STAMP='2014-05-19T11:53:47 idx_add 3.3.1' [astropy.utils.metadata]\n",
      "2023-05-19 17:37:24 savchenk-NG-VN7-793G-79EG astropy[1779586] WARNING MergeConflictWarning: Cannot merge meta key 'STAMP' types <class 'str'> and <class 'str'>, choosing STAMP='2014-05-19T11:53:47 idx_add 3.3.1'\n",
      "WARNING: MergeConflictWarning: Cannot merge meta key 'CHECKSUM' types <class 'str'> and <class 'str'>, choosing CHECKSUM='6gGi9ZDf6fDf6ZDf' [astropy.utils.metadata]\n",
      "2023-05-19 17:37:24 savchenk-NG-VN7-793G-79EG astropy[1779586] WARNING MergeConflictWarning: Cannot merge meta key 'CHECKSUM' types <class 'str'> and <class 'str'>, choosing CHECKSUM='6gGi9ZDf6fDf6ZDf'\n",
      "WARNING: MergeConflictWarning: Cannot merge meta key 'DATASUM' types <class 'str'> and <class 'str'>, choosing DATASUM='1084674211' [astropy.utils.metadata]\n",
      "2023-05-19 17:37:24 savchenk-NG-VN7-793G-79EG astropy[1779586] WARNING MergeConflictWarning: Cannot merge meta key 'DATASUM' types <class 'str'> and <class 'str'>, choosing DATASUM='1084674211'\n"
     ]
    }
   ],
   "source": [
    "\n",
    "tables=[]\n",
    "\n",
    "if cons == 1:\n",
    "    complete_scwd_cons = Table.read(fits.open(arc_root_prefix+\"/isdc/arc/rev_3/idx/scw/GNRL-SCWG-GRP-IDX.fits\"))\n",
    "    tables.append(complete_scwd_cons)\n",
    "\n",
    "if nrt == 1:\n",
    "    print(\"nrt:\",arc_root_prefix+\"/isdc/pvphase/nrt/ops/idx/scw/GNRL-SCWG-GRP-IDX_*\")\n",
    "    print(\"nrt:\",glob.glob(arc_root_prefix+\"/isdc/pvphase/nrt/ops/idx/scw/GNRL-SCWG-GRP-IDX_*\"))\n",
    "    complete_scwd_nrt = Table.read(fits.open(sorted(glob.glob(arc_root_prefix+\"/isdc/pvphase/nrt/ops/idx/scw/GNRL-SCWG-GRP-IDX_*\"))[-1])[1])\n",
    "    tables.append(complete_scwd_nrt)\n",
    "    \n",
    "print(len(tables))\n",
    "    \n",
    "complete_scwd = vstack(tables)"
   ]
  },
  {
   "cell_type": "code",
   "execution_count": 7,
   "metadata": {},
   "outputs": [
    {
     "name": "stderr",
     "output_type": "stream",
     "text": [
      "2023-05-19 17:37:24 savchenk-NG-VN7-793G-79EG root[1779586] INFO url https://www.astro.unige.ch/cdci/astrooda/dispatch-data/gw//timesystem/api/v1.0/converttime/UTC/2023-05-19T17:37:24/IJD\n",
      "2023-05-19 17:37:25 savchenk-NG-VN7-793G-79EG root[1779586] INFO url https://www.astro.unige.ch/cdci/astrooda/dispatch-data/gw//timesystem/api/v1.0/converttime/UTC/2023-05-18T12:59:08.000000/IJD\n"
     ]
    },
    {
     "data": {
      "text/plain": [
       "(8539.735106296297, 8538.541865555555, 8528.541865555555, 8548.541865555555)"
      ]
     },
     "execution_count": 7,
     "metadata": {},
     "output_type": "execute_result"
    }
   ],
   "source": [
    "now_ijd = float(ic.converttime(\"UTC\",time.strftime(\"%Y-%m-%dT%H:%M:%S\"),\"IJD\"))\n",
    "t0_ijd =  float(ic.converttime(\"UTC\",t0_utc,\"IJD\"))\n",
    "\n",
    "tstart_ijd = t0_ijd - tstart_rel_mdays\n",
    "tstop_ijd = t0_ijd + tstop_rel_days\n",
    "\n",
    "now_ijd, t0_ijd, tstart_ijd, tstop_ijd"
   ]
  },
  {
   "cell_type": "code",
   "execution_count": 8,
   "metadata": {},
   "outputs": [
    {
     "name": "stdout",
     "output_type": "stream",
     "text": [
      "1020.25116834875 8539.60176339745 8528.541865555555\n"
     ]
    },
    {
     "data": {
      "text/plain": [
       "(955323.6157583131, 0)"
      ]
     },
     "execution_count": 8,
     "metadata": {},
     "output_type": "execute_result"
    }
   ],
   "source": [
    "print(complete_scwd['TSTART'].min(), complete_scwd['TSTOP'].max(),tstart_ijd)\n",
    "\n",
    "scwd=complete_scwd[(complete_scwd['TSTART'] > tstart_ijd) & (complete_scwd['TSTART'] < tstop_ijd)]\n",
    "\n",
    "scwd_nrt=complete_scwd_nrt[(complete_scwd_nrt['TSTART'] > tstart_ijd) & (complete_scwd_nrt['TSTART'] < tstop_ijd)]\n",
    "scwd_cons=complete_scwd_cons[(complete_scwd_cons['TSTART'] > tstart_ijd) & (complete_scwd_cons['TSTART'] < tstop_ijd)]\n",
    "\n",
    "sum(scwd_nrt['TELAPSE']),sum(scwd_cons['TELAPSE'])"
   ]
  },
  {
   "cell_type": "code",
   "execution_count": 9,
   "metadata": {},
   "outputs": [
    {
     "data": {
      "text/html": [
       "<div><i>Table length=0</i>\n",
       "<table id=\"table140412201615568\" class=\"table-striped table-bordered table-condensed\">\n",
       "<thead><tr><th>MEMBER_XTENSION</th><th>MEMBER_NAME</th><th>MEMBER_VERSION</th><th>MEMBER_POSITION</th><th>MEMBER_LOCATION</th><th>MEMBER_URI_TYPE</th><th>ISDCLEVL</th><th>DATE</th><th>ERTFIRST</th><th>ERTLAST</th><th>REVOL</th><th>SWID</th><th>SW_TYPE</th><th>SWBOUND</th><th>BCPPID</th><th>OBTSTART</th><th>OBTEND</th><th>PCKSTART</th><th>PCKEND</th><th>EXPID</th><th>EXPIDEND</th><th>PODV</th><th>PODV_END</th><th>TSTART</th><th>TSTOP</th><th>TELAPSE</th><th>RA_SCX</th><th>DEC_SCX</th><th>RA_SCZ</th><th>DEC_SCZ</th><th>L2_SCX</th><th>B2_SCX</th><th>L2_SCZ</th><th>B2_SCZ</th><th>POSANGLE</th><th>SPIMODE</th><th>IBISMODE</th><th>JMX1MODE</th><th>JMX2MODE</th><th>OMCMODE</th><th>OBSTYPE</th></tr></thead>\n",
       "<thead><tr><th></th><th></th><th></th><th></th><th></th><th></th><th></th><th></th><th></th><th></th><th></th><th></th><th></th><th></th><th></th><th></th><th></th><th></th><th></th><th></th><th></th><th></th><th></th><th>d</th><th>d</th><th>s</th><th>deg</th><th>deg</th><th>deg</th><th>deg</th><th>deg</th><th>deg</th><th>deg</th><th>deg</th><th>deg</th><th></th><th></th><th></th><th></th><th></th><th></th></tr></thead>\n",
       "<thead><tr><th>str8</th><th>str32</th><th>int32</th><th>int32</th><th>str256</th><th>str3</th><th>str5</th><th>str19</th><th>str30</th><th>str30</th><th>uint16</th><th>str12</th><th>str12</th><th>str11</th><th>str8</th><th>str20</th><th>str20</th><th>uint16</th><th>uint16</th><th>str8</th><th>str8</th><th>str4</th><th>str4</th><th>float64</th><th>float64</th><th>float64</th><th>float32</th><th>float32</th><th>float32</th><th>float32</th><th>float32</th><th>float32</th><th>float32</th><th>float32</th><th>float32</th><th>uint8</th><th>uint8</th><th>uint8</th><th>uint8</th><th>uint8</th><th>str32</th></tr></thead>\n",
       "</table></div>"
      ],
      "text/plain": [
       "<Table length=0>\n",
       "MEMBER_XTENSION MEMBER_NAME MEMBER_VERSION ... JMX2MODE OMCMODE OBSTYPE\n",
       "                                           ...                         \n",
       "      str8         str32        int32      ...  uint8    uint8   str32 \n",
       "--------------- ----------- -------------- ... -------- ------- -------"
      ]
     },
     "execution_count": 9,
     "metadata": {},
     "output_type": "execute_result"
    }
   ],
   "source": [
    "scwd_cons"
   ]
  },
  {
   "cell_type": "code",
   "execution_count": 10,
   "metadata": {},
   "outputs": [],
   "source": [
    "m_point = np.array(list(map(str.strip,scwd['SW_TYPE']))) == \"POINTING\"\n",
    "scwd=scwd[m_point]\n",
    "\n",
    "scx=SkyCoord(scwd['RA_SCX'],scwd['DEC_SCX'],unit=\"deg\")\n",
    "\n",
    "offaxis=  scx.separation(source_coord) "
   ]
  },
  {
   "cell_type": "code",
   "execution_count": 11,
   "metadata": {},
   "outputs": [
    {
     "data": {
      "text/plain": [
       "0"
      ]
     },
     "execution_count": 11,
     "metadata": {},
     "output_type": "execute_result"
    }
   ],
   "source": [
    "m = offaxis.deg < 15\n",
    "\n",
    "in_15deg_fov_ks = sum(scwd['TELAPSE'][m])\n",
    "in_15deg_fov_ks"
   ]
  },
  {
   "cell_type": "code",
   "execution_count": 12,
   "metadata": {},
   "outputs": [
    {
     "name": "stdout",
     "output_type": "stream",
     "text": [
      "0 0\n"
     ]
    },
    {
     "data": {
      "image/png": "[encoded data removed]",
      "text/plain": [
       "<Figure size 800x600 with 1 Axes>"
      ]
     },
     "metadata": {},
     "output_type": "display_data"
    }
   ],
   "source": [
    "pylab.figure(figsize=(8,6))\n",
    "pylab.step(\n",
    "    (scwd['TSTART']-t0_ijd)*24,\n",
    "    offaxis.deg,\n",
    "    #width=scwd['TELAPSE']/24./3600*24,\n",
    "    \n",
    ")\n",
    "#tight_layout()\n",
    "pylab.grid()\n",
    "#pylab.xlim(-5*24,3*24)\n",
    "pylab.axhspan(0,10,alpha=0.2,color=\"red\")\n",
    "pylab.axhspan(10,15,alpha=0.2,color=\"green\")\n",
    "pylab.axhspan(15,20,alpha=0.2,color=\"blue\")\n",
    "pylab.ylabel(\"off-axis angle, deg\")\n",
    "#ylim([0,50])\n",
    "pylab.xlabel(\"hours since %.15lg (%s)\"%(t0_ijd, t0_utc))\n",
    "\n",
    "mon=(scx.separation(source_coord).degree<10) #& (scwd['TSTART']>frb_t0_ijd-5.)\n",
    "\n",
    "\n",
    "print(sum(mon),sum(scwd['TELAPSE'][mon]))\n",
    "\n",
    "pylab.savefig(\"ohistory.png\")"
   ]
  },
  {
   "cell_type": "code",
   "execution_count": 13,
   "metadata": {},
   "outputs": [
    {
     "name": "stdout",
     "output_type": "stream",
     "text": [
      "0 0\n"
     ]
    },
    {
     "data": {
      "image/png": "[encoded data removed]",
      "text/plain": [
       "<Figure size 800x600 with 1 Axes>"
      ]
     },
     "metadata": {},
     "output_type": "display_data"
    }
   ],
   "source": [
    "pylab.figure(figsize=(8,6))\n",
    "pylab.hist(offaxis.deg)\n",
    "pylab.grid()\n",
    "pylab.xlabel(\"off-axis angle, deg\")\n",
    "#ylim([0,50])\n",
    "\n",
    "mon=(scx.separation(source_coord).degree<10) #& (scwd['TSTART']>frb_t0_ijd-5.)\n",
    "\n",
    "pylab.axvspan(0, 15, alpha=0.1, color='red', label=\"FoV\")\n",
    "\n",
    "pylab.xlim([0,180])\n",
    "\n",
    "pylab.legend()\n",
    "\n",
    "print(sum(mon),sum(scwd['TELAPSE'][mon]))\n",
    "\n",
    "pylab.savefig(\"ohist.png\")"
   ]
  },
  {
   "cell_type": "code",
   "execution_count": 2,
   "metadata": {},
   "outputs": [
    {
     "name": "stderr",
     "output_type": "stream",
     "text": [
      "WARNING:odafunction.func.urifunc:asked to [red]write_to_uri[/] [b][URIPythonFunction][()][prov: [('partial', ('args', ()), ('kwargs', {}), ([URIipynbFunction][(*, cons=1, nrt=1, when_utc='now')]:[file:///home/savchenk/integral_lvk/workflows/status.ipynb], None))]]:[file:///tmp/urivalue//5bd5c664//home/savchenk/integral_lvk/workflows/status][/] but this function has no persistent representation\n"
     ]
    },
    {
     "name": "stdout",
     "output_type": "stream",
     "text": [
      "found as [URIipynbFunction][(*, cons=1, nrt=1, when_utc='now')]:[file:///home/savchenk/integral_lvk/workflows/status.ipynb]\n",
      "found parameters applied as [URIPythonFunction][()][prov: [('partial', ('args', ()), ('kwargs', {}), ([URIipynbFunction][(*, cons=1, nrt=1, when_utc='now')]:[file:///home/savchenk/integral_lvk/workflows/status.ipynb], None))]]:[file:///tmp/urivalue//5bd5c664//home/savchenk/integral_lvk/workflows/status]\n",
      "{'curent_rev': 2641.0, 'earth_separation_kkm': 117748.5, 'earth_size_deg': 3.1000939398620573, 'last_cons_scw_dec': -36.998722076416016, 'last_cons_scw_id': '263500760010', 'last_cons_scw_ra': 323.0, 'last_cons_scw_type': 'POINTING    ', 'last_nrt_scw_dec': -47.68299865722656, 'last_nrt_scw_id': '264100500021', 'last_nrt_scw_ra': 139.03604125976562, 'last_nrt_scw_type': 'SLEW        ', 'most_recent_age_cons': 15.50174440563751, 'most_recent_age_nrt': 0.04726650995689852, 'now': '2023-05-19T17:34:43.960540+02:00', 'nrtstatus': 'ONLINE', 'prophecy': 'next break in data in 8.8 hr: 2023-05-20T00:23:28, for 9.3 hr', 'prophecy_summary': {'expected_data_status': 'ONLINE', 'last_data_utc': None, 'next_data_utc': None, 'nextrev': {'num': 2642, 'start': '2023-05-20T09:39:55', 'stop': '2023-05-22T16:13:43'}, 'prevrev': {'num': 2640, 'start': '2023-05-15T02:12:21', 'stop': '2023-05-17T07:25:48'}, 'thisrev': {'num': 2641, 'start': '2023-05-17T17:49:17', 'stop': '2023-05-20T00:23:28'}}, 'rtfirst_ijd': 8537.646647244213, 'rtlast_age_seconds': 22.561999963363633, 'rtlast_dec': -49.841, 'rtlast_earth_lightraveltime': -0.38194, 'rtlast_earth_separation_kkm': 117690.716903275, 'rtlast_ijd': 8539.649613680556, 'rtlast_nonzero_ijd': 8539.649613680556, 'rtlast_nonzero_utc': '2023-05-19T15:34:17.4380', 'rtlast_ra': 138.664, 'rtlast_utc': '2023-05-19T15:34:17.4380', 'rtstatus': 'ONLINE', 'when_utc': '2023-05-19T15:33:27'}\n"
     ]
    },
    {
     "data": {
      "text/plain": [
       "(8537.646647244213, 8539.649613680556)"
      ]
     },
     "execution_count": 2,
     "metadata": {},
     "output_type": "execute_result"
    }
   ],
   "source": [
    "from engine import engine as eng\n",
    "import importlib\n",
    "\n",
    "importlib.reload(eng)\n",
    "\n",
    "status_data = eng.run_workflow(\"status.ipynb\", {})['data']\n",
    "\n",
    "print(status_data)\n",
    "status_data['rtfirst_ijd'], status_data['rtlast_ijd']"
   ]
  },
  {
   "cell_type": "code",
   "execution_count": 15,
   "metadata": {},
   "outputs": [
    {
     "data": {
      "text/plain": [
       "('NRT', 0.552849314521518)"
      ]
     },
     "execution_count": 15,
     "metadata": {},
     "output_type": "execute_result"
    }
   ],
   "source": [
    "telapse_nrt=sum(scwd_nrt['TELAPSE'])\n",
    "telapse_cons=sum(scwd_cons['TELAPSE'])\n",
    "\n",
    "if len(scwd_nrt)>0:\n",
    "    data_readiness_fraction_nrt = (scwd_nrt['TSTOP'].max() - scwd_nrt['TSTART'].min())/(tstop_ijd - tstart_ijd)\n",
    "else:\n",
    "    data_readiness_fraction_nrt = 0\n",
    "\n",
    "nearest_nrt = complete_scwd_nrt['TSTART'][np.argmin(abs(complete_scwd_nrt['TSTART']-tstart_ijd))]\n",
    "last_nrt = complete_scwd_nrt['TSTART'].max()\n",
    "    \n",
    "nearest_cons = complete_scwd_cons['TSTART'][np.argmin(abs(complete_scwd_cons['TSTART']-tstart_ijd))]\n",
    "last_cons = complete_scwd_cons['TSTART'].max()\n",
    "\n",
    "if len(scwd_cons)>0:\n",
    "    data_readiness_fraction_cons = (scwd_cons['TSTOP'].max() - scwd_cons['TSTART'].min())/(tstop_ijd - tstart_ijd)\n",
    "else:\n",
    "    data_readiness_fraction_cons = 0\n",
    "\n",
    "\n",
    "data_readiness = \"NO DATA\"\n",
    "data_readiness_fraction = 0\n",
    "\n",
    "if telapse_nrt+telapse_cons == 0 or last_nrt<t0_ijd:\n",
    "    if t0_ijd<now_ijd and t0_ijd > status_data['rtfirst_ijd'] and t0_ijd < status_data['rtlast_ijd']:\n",
    "        data_readiness = \"realtime\"\n",
    "        data_readiness_fraction = min(tstop_ijd,status_data['rtlast_ijd']) - max(tstart_ijd,status_data['rtfirst_ijd'])\n",
    "\n",
    "if telapse_nrt>0 and last_nrt>t0_ijd:\n",
    "    data_readiness = \"NRT\"\n",
    "    data_coverage_fraction = sum(scwd_nrt['TELAPSE'])/(tstop_ijd - tstart_ijd)/3600./24.\n",
    "    data_readiness_fraction = data_readiness_fraction_nrt\n",
    "    status_data\n",
    "if telapse_cons>0 and last_cons>t0_ijd:\n",
    "    data_readiness = \"CONS\"\n",
    "    data_readiness_fraction = data_readiness_fraction_cons\n",
    "    \n",
    "    \n",
    "data_readiness, data_readiness_fraction"
   ]
  },
  {
   "cell_type": "code",
   "execution_count": 16,
   "metadata": {},
   "outputs": [
    {
     "name": "stdout",
     "output_type": "stream",
     "text": [
      "failed to get AUTH with env due to: 'K8S_SECRET_INTEGRAL_CLIENT_SECRET'\n",
      "got AUTH with homefile for integral-limited\n"
     ]
    },
    {
     "name": "stderr",
     "output_type": "stream",
     "text": [
      "2023-05-19 17:37:30 savchenk-NG-VN7-793G-79EG root[1779586] INFO selecting timesystem endpoint https://www.astro.unige.ch/cdci/astrooda/dispatch-data/gw/\n",
      "2023-05-19 17:37:30 savchenk-NG-VN7-793G-79EG root[1779586] INFO url https://www.astro.unige.ch/cdci/astrooda/dispatch-data/gw//timesystem/api/v1.0/converttime/UTC/2023-05-18T12:59:08.000000/SCWID\n"
     ]
    },
    {
     "data": {
      "text/plain": [
       "'264100200010'"
      ]
     },
     "execution_count": 16,
     "metadata": {},
     "output_type": "execute_result"
    }
   ],
   "source": [
    "import importlib as imp\n",
    "imp.reload(ic)\n",
    "from integralclient.service_exception import ServiceException\n",
    "\n",
    "sc_frame_data = ic.get_sc(utc=t0_utc,ra=RA,dec=Dec)\n",
    "\n",
    "try:\n",
    "    scw=ic.converttime(\"UTC\",t0_utc,\"SCWID\")\n",
    "except ServiceException as e:\n",
    "    if 'is close' in repr(e):\n",
    "        scw=\"none\"\n",
    "    else:\n",
    "        raise\n",
    "    \n",
    "scw"
   ]
  },
  {
   "cell_type": "code",
   "execution_count": 3,
   "metadata": {},
   "outputs": [
    {
     "ename": "NameError",
     "evalue": "name 'sc_frame_data' is not defined",
     "output_type": "error",
     "traceback": [
      "\u001b[0;31m---------------------------------------------------------------------------\u001b[0m",
      "\u001b[0;31mNameError\u001b[0m                                 Traceback (most recent call last)",
      "\u001b[1;32m/home/savchenk/integral_lvk/workflows/iobserve.ipynb Cell 17\u001b[0m in \u001b[0;36m<cell line: 1>\u001b[0;34m()\u001b[0m\n\u001b[0;32m----> <a href='vscode-notebook-cell:/home/savchenk/integral_lvk/workflows/iobserve.ipynb#X22sZmlsZQ%3D%3D?line=0'>1</a>\u001b[0m sc_frame_data\n",
      "\u001b[0;31mNameError\u001b[0m: name 'sc_frame_data' is not defined"
     ]
    }
   ],
   "source": [
    "sc_frame_data"
   ]
  },
  {
   "cell_type": "code",
   "execution_count": 18,
   "metadata": {},
   "outputs": [
    {
     "name": "stderr",
     "output_type": "stream",
     "text": [
      "/tmp/ipykernel_1779586/3755471595.py:89: DeprecationWarning: Importing display from IPython.core.display is deprecated since IPython 7.14, please import from IPython display\n",
      "  from IPython.core.display import display, HTML\n"
     ]
    },
    {
     "data": {
      "text/html": [
       "\n",
       "<html>\n",
       "<head>\n",
       "</head>\n",
       "<body>\n",
       "\n",
       "<table style=\"border-collapse: separate;border-spacing: 2px;\" width=\"100%\">\n",
       "\n",
       "<tr style=\"background-color:#ADD8E6\">\n",
       "<td colspan=5 height=\"5px\"></td>\n",
       "</tr>\n",
       "\n",
       "<tr>\n",
       "<td  style=\"text-align:center\" rowspan=2>\n",
       "Event\n",
       "</td>\n",
       "<td  style=\"text-align:center\">\n",
       "RA, Dec\n",
       "</td>\n",
       "<td  style=\"text-align:center\">\n",
       "40.67, -0.01\n",
       "</td>\n",
       "</tr>\n",
       "\n",
       "\n",
       "<tr>\n",
       "<td  style=\"text-align:center\">\n",
       "UTC\n",
       "</td>\n",
       "<td  style=\"text-align:center\">\n",
       "2023-05-18T12:59:08.\n",
       "</td>\n",
       "</tr>\n",
       "\n",
       "<tr style=\"background-color:#ADD8E6\">\n",
       "<td colspan=5 height=\"5px\"></td>\n",
       "</tr>\n",
       "\n",
       "<tr>\n",
       "<td style=\"text-align:center\" rowspan=2>INTEGRAL Data</td>\n",
       "<td style=\"text-align:center\" >SCW</td>\n",
       "<td style=\"text-align:center\">264100200010</td>\n",
       "</tr>\n",
       "\n",
       "<tr>\n",
       "<td style=\"text-align:center\">Data</td>\n",
       "<td style=\"text-align:center\">NRT (55.0%)</td>\n",
       "</tr>\n",
       "\n",
       "<tr style=\"background-color:#ADD8E6\">\n",
       "<td colspan=5 height=\"5px\"></td>\n",
       "</tr>\n",
       "\n",
       "<tr>\n",
       "<td style=\"text-align:center\" rowspan=2>SpaceCraft</td>\n",
       "<td style=\"text-align:center\">in SC (&theta;, &phi;) </td>\n",
       "<td style=\"text-align:center\">79.4, -23.1</td>\n",
       "</tr>\n",
       "\n",
       "<tr>\n",
       "<td style=\"text-align:center\">to Earth </td>\n",
       "<td style=\"text-align:center\">145.0 Mm </td>\n",
       "</tr>\n",
       "\n",
       "<tr style=\"background-color:#ADD8E6\">\n",
       "<td colspan=5 height=\"5px\"></td>\n",
       "</tr>\n",
       "\n",
       "<tr>\n",
       "<td style=\"text-align:left\" colspan=1>\n",
       "<a href=\"https://oda-workflows-integral-observation-summary.odahub.io/api/v1.0/get-html/status/history_html\">\n",
       "INTEGRAL status\n",
       "</a>\n",
       "</td>\n",
       "<td colspan=4>\n",
       "<a align=\"right\" style=\"text-align:right\" href=\"http://integral.esac.esa.int/isocweb/schedule.html?action=schedule\">\n",
       "Schedule\n",
       "</a>\n",
       "</td>\n",
       "</tr>\n",
       "\n",
       "\n",
       "</table>\n",
       "\n",
       "</body>\n",
       "</html>"
      ],
      "text/plain": [
       "<IPython.core.display.HTML object>"
      ]
     },
     "metadata": {},
     "output_type": "display_data"
    }
   ],
   "source": [
    "template=\"\"\"\n",
    "<html>\n",
    "<head>\n",
    "</head>\n",
    "<body>\n",
    "\n",
    "<table style=\"border-collapse: separate;border-spacing: 2px;\" width=\"100%\">\n",
    "\n",
    "<tr style=\"background-color:#ADD8E6\">\n",
    "<td colspan=5 height=\"5px\"></td>\n",
    "</tr>\n",
    "\n",
    "<tr>\n",
    "<td  style=\"text-align:center\" rowspan=2>\n",
    "Event\n",
    "</td>\n",
    "<td  style=\"text-align:center\">\n",
    "RA, Dec\n",
    "</td>\n",
    "<td  style=\"text-align:center\">\n",
    "{{ event.ra | round(2) }}, {{ event.dec | round(2) }}\n",
    "</td>\n",
    "</tr>\n",
    "\n",
    "\n",
    "<tr>\n",
    "<td  style=\"text-align:center\">\n",
    "UTC\n",
    "</td>\n",
    "<td  style=\"text-align:center\">\n",
    "{{ event.t0_utc[:20] }}\n",
    "</td>\n",
    "</tr>\n",
    "\n",
    "<tr style=\"background-color:#ADD8E6\">\n",
    "<td colspan=5 height=\"5px\"></td>\n",
    "</tr>\n",
    "\n",
    "<tr>\n",
    "<td style=\"text-align:center\" rowspan=2>INTEGRAL Data</td>\n",
    "<td style=\"text-align:center\" >SCW</td>\n",
    "<td style=\"text-align:center\">{{ scw }}</td>\n",
    "</tr>\n",
    "\n",
    "<tr>\n",
    "<td style=\"text-align:center\">Data</td>\n",
    "<td style=\"text-align:center\">{{ data_readiness }} ({{ (100*data_readiness_fraction) | round(0) }}%)</td>\n",
    "</tr>\n",
    "\n",
    "<tr style=\"background-color:#ADD8E6\">\n",
    "<td colspan=5 height=\"5px\"></td>\n",
    "</tr>\n",
    "\n",
    "<tr>\n",
    "<td style=\"text-align:center\" rowspan=2>SpaceCraft</td>\n",
    "<td style=\"text-align:center\">in SC (&theta;, &phi;) </td>\n",
    "<td style=\"text-align:center\">{{ sc.theta | round(1) }}, {{ sc.phi | round(1) }}</td>\n",
    "</tr>\n",
    "\n",
    "<tr>\n",
    "<td style=\"text-align:center\">to Earth </td>\n",
    "<td style=\"text-align:center\">{{ (0.001*sc.bodies.earth.separation) | round }} Mm </td>\n",
    "</tr>\n",
    "\n",
    "<tr style=\"background-color:#ADD8E6\">\n",
    "<td colspan=5 height=\"5px\"></td>\n",
    "</tr>\n",
    "\n",
    "<tr>\n",
    "<td style=\"text-align:left\" colspan=1>\n",
    "<a href=\"https://oda-workflows-integral-observation-summary.odahub.io/api/v1.0/get-html/status/history_html\">\n",
    "INTEGRAL status\n",
    "</a>\n",
    "</td>\n",
    "<td colspan=4>\n",
    "<a align=\"right\" style=\"text-align:right\" href=\"http://integral.esac.esa.int/isocweb/schedule.html?action=schedule\">\n",
    "Schedule\n",
    "</a>\n",
    "</td>\n",
    "</tr>\n",
    "\n",
    "\n",
    "</table>\n",
    "\n",
    "</body>\n",
    "</html>\n",
    "\"\"\"\n",
    "\n",
    "from IPython.core.display import display, HTML\n",
    "from jinja2 import Environment, BaseLoader\n",
    "\n",
    "rtemplate = Environment(loader=BaseLoader).from_string(template)\n",
    "\n",
    "data=dict(\n",
    "    event=dict(t0_utc=t0_utc, ra=RA, dec=Dec),\n",
    "    data_readiness=data_readiness,\n",
    "    data_readiness_fraction=data_readiness_fraction,    \n",
    "    sc=sc_frame_data,\n",
    "    scw=scw,\n",
    ")\n",
    "data_html = rtemplate.render(**data)\n",
    "\n",
    "open(\"summary_card.html\",\"w\").write(data_html)\n",
    "\n",
    "display(HTML(data_html))"
   ]
  },
  {
   "cell_type": "code",
   "execution_count": 19,
   "metadata": {},
   "outputs": [
    {
     "data": {
      "text/plain": [
       "'Sun side'"
      ]
     },
     "execution_count": 19,
     "metadata": {},
     "output_type": "execute_result"
    }
   ],
   "source": [
    "sc_theta=sc_frame_data['theta']\n",
    "sc_phi=sc_frame_data['phi']\n",
    "\n",
    "orientation_comment = \"on-ACS\"\n",
    "\n",
    "if sc_theta<15:\n",
    "    orientation_comment = \"FoV\"    \n",
    "elif sc_theta<30:\n",
    "    orientation_comment = \"near-FoV\"    \n",
    "elif sc_theta> 100:\n",
    "    orientation_comment = \"bottom\"    \n",
    "elif abs(sc_phi) < 30:\n",
    "    orientation_comment = \"Sun side\"\n",
    "else:\n",
    "    orientation_comment = \"on-ACS\"\n",
    "\n",
    "orientation_comment"
   ]
  },
  {
   "cell_type": "code",
   "execution_count": 20,
   "metadata": {
    "tags": [
     "outputs"
    ]
   },
   "outputs": [],
   "source": [
    "history_png=\"ohistory.png\" # smth\n",
    "hist_png=\"ohist.png\" # smth else\n",
    "summary_card=\"summary_card.html\" # smth else\n",
    "in_15deg_fov_ks=in_15deg_fov_ks\n",
    "telapse_nrt=telapse_nrt\n",
    "telapse_cons=telapse_cons\n",
    "data_readiness=data_readiness\n",
    "data_readiness_fraction=data_readiness_fraction\n",
    "t0_utc=t0_utc\n",
    "t0_ijd=t0_ijd\n",
    "nearest_cons=nearest_cons\n",
    "last_cons=last_cons\n",
    "sc_theta=sc_theta\n",
    "sc_phi=sc_phi\n",
    "orientation_comment=orientation_comment"
   ]
  }
 ],
 "metadata": {
  "celltoolbar": "Tags",
  "kernelspec": {
   "display_name": "base",
   "language": "python",
   "name": "python3"
  },
  "language_info": {
   "codemirror_mode": {
    "name": "ipython",
    "version": 3
   },
   "file_extension": ".py",
   "mimetype": "text/x-python",
   "name": "python",
   "nbconvert_exporter": "python",
   "pygments_lexer": "ipython3",
   "version": "3.9.16"
  },
  "vscode": {
   "interpreter": {
    "hash": "1892832a55cb9b21d693a1e0afb7563f6ad424a1b7b3da21728b3ea0874fe733"
   }
  }
 },
 "nbformat": 4,
 "nbformat_minor": 2
}
